{
 "cells": [
  {
   "cell_type": "code",
   "execution_count": null,
   "id": "cf4190f0-2c17-4f31-ba15-b3fc6bce309d",
   "metadata": {},
   "outputs": [],
   "source": [
    "import torch\n",
    "from torch_geometric.data import Data\n",
    "\n",
    "# Assuming you have your dataset loaded as a Pandas DataFrame\n",
    "# Create nodes for sources and targets\n",
    "nodes = torch.arange(len(your_data_frame))\n",
    "\n",
    "# Create edges based on your requirements. For example, if you want to connect each source to its target, you can do this:\n",
    "edges = torch.tensor([your_data_frame['source'], your_data_frame['target']])\n",
    "\n",
    "# Construct the graph data\n",
    "graph = Data(x=nodes, edge_index=edges)\n",
    "\n",
    "# You can also add additional features to your nodes, e.g., softmax(logits)\n",
    "softmax_logits = torch.tensor(your_data_frame['softmax(logits)'], dtype=torch.float)\n",
    "graph.x = softmax_logits.view(-1, 1)\n",
    "\n",
    "# If you have more node features, you can add them to the 'x' attribute of the graph.\n",
    "\n",
    "# You can also add edge features if needed. For example, you might want to include the 'test_type' as edge features:\n",
    "edge_features = torch.tensor(your_data_frame['test_type'], dtype=torch.long)\n",
    "graph.edge_attr = edge_features.view(-1, 1)\n",
    "\n",
    "# Now, you have a PyTorch Geometric Data object 'graph' ready for GNN training.\n"
   ]
  },
  {
   "cell_type": "code",
   "execution_count": null,
   "id": "a4624815-560b-4280-b4d5-3358f974ab52",
   "metadata": {},
   "outputs": [],
   "source": [
    "import torch.nn as nn\n",
    "import torch.nn.functional as F\n",
    "from torch_geometric.nn import GCNConv\n",
    "\n",
    "class GNNCommunityDetection(nn.Module):\n",
    "    def __init__(self, input_dim, hidden_dim, num_classes):\n",
    "        super(GNNCommunityDetection, self).__init__()\n",
    "        self.conv1 = GCNConv(input_dim, hidden_dim)\n",
    "        self.conv2 = GCNConv(hidden_dim, num_classes)\n",
    "\n",
    "    def forward(self, data):\n",
    "        x, edge_index = data.x, data.edge_index\n",
    "        x = F.relu(self.conv1(x, edge_index))\n",
    "        x = self.conv2(x, edge_index)\n",
    "        return F.log_softmax(x, dim=1)\n"
   ]
  },
  {
   "cell_type": "code",
   "execution_count": null,
   "id": "82e7eb55-3dca-47a7-aa9e-1634394a11bf",
   "metadata": {},
   "outputs": [],
   "source": [
    "import torch.optim as optim\n",
    "from torch_geometric.data import DataLoader\n",
    "from sklearn.metrics import accuracy_score\n",
    "\n",
    "# Define the parameters\n",
    "input_dim = 1  # Change this based on your input features\n",
    "hidden_dim = 64\n",
    "num_classes = 2  # Assuming you want to classify into 2 communities\n",
    "\n",
    "model = GNNCommunityDetection(input_dim, hidden_dim, num_classes)\n",
    "optimizer = optim.Adam(model.parameters(), lr=0.01)\n",
    "\n",
    "# Train your GNN (you'll need to define your loss function)\n",
    "model.train()\n",
    "for epoch in range(num_epochs):\n",
    "    optimizer.zero_grad()\n",
    "    out = model(graph)\n",
    "    loss = your_loss_function(out, your_target)  # Define your loss function here\n",
    "    loss.backward()\n",
    "    optimizer.step()\n",
    "\n",
    "# Perform community detection by selecting the community with the highest profit\n",
    "model.eval()\n",
    "with torch.no_grad():\n",
    "    predictions = model(graph)\n",
    "    predicted_communities = torch.argmax(predictions, dim=1)\n",
    "\n",
    "# Calculate profit for each community\n",
    "profits = []  # Store profit for each community\n",
    "for community in range(num_classes):\n",
    "    indices = (predicted_communities == community).nonzero(as_tuple=False).squeeze(1)\n",
    "    community_profit = (your_data_frame['close_time'][indices] - your_data_frame['open_time'][indices]).sum()\n",
    "    profits.append(community_profit)\n",
    "\n",
    "# Select the community with the highest profit\n",
    "best_community = profits.index(max(profits))\n",
    "print(f\"Community {best_community} has the highest profit.\")\n"
   ]
  }
 ],
 "metadata": {
  "kernelspec": {
   "display_name": "Python 3 (ipykernel)",
   "language": "python",
   "name": "python3"
  },
  "language_info": {
   "codemirror_mode": {
    "name": "ipython",
    "version": 3
   },
   "file_extension": ".py",
   "mimetype": "text/x-python",
   "name": "python",
   "nbconvert_exporter": "python",
   "pygments_lexer": "ipython3",
   "version": "3.8.17"
  }
 },
 "nbformat": 4,
 "nbformat_minor": 5
}
