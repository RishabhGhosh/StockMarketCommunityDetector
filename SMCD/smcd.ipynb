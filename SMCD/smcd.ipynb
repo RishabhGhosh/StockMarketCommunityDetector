{
  "cells": [
    {
      "cell_type": "code",
      "execution_count": 6,
      "metadata": {
        "colab": {
          "base_uri": "https://localhost:8080/"
        },
        "id": "e1hECDOBRRem",
        "outputId": "06179353-623e-4851-f3ff-58df0420abca"
      },
      "outputs": [
        {
          "output_type": "stream",
          "name": "stdout",
          "text": [
            "Drive already mounted at /content/gdrive; to attempt to forcibly remount, call drive.mount(\"/content/gdrive\", force_remount=True).\n"
          ]
        }
      ],
      "source": [
        "# Mount point in google drive, comment it out if runner in other platform\n",
        "import os\n",
        "from google.colab import drive\n",
        "MOUNTPOINT = '/content/gdrive'\n",
        "DATADIR = os.path.join(MOUNTPOINT, 'My Drive', 'SMCD')\n",
        "drive.mount(MOUNTPOINT)\n",
        "\n",
        "import sys\n",
        "sys.path.insert(0,'/content/gdrive/My Drive/SMCD')"
      ]
    },
    {
      "cell_type": "code",
      "execution_count": 5,
      "metadata": {
        "colab": {
          "base_uri": "https://localhost:8080/"
        },
        "id": "p2RG9Jd3-9qF",
        "outputId": "1628e47a-5365-476d-aa7a-ef6189f18f02"
      },
      "outputs": [
        {
          "output_type": "stream",
          "name": "stdout",
          "text": [
            "Requirement already satisfied: graphviz in /usr/local/lib/python3.10/dist-packages (0.20.1)\n",
            "Requirement already satisfied: networkx in /usr/local/lib/python3.10/dist-packages (3.2.1)\n",
            "\u001b[31mERROR: Operation cancelled by user\u001b[0m\u001b[31m\n",
            "\u001b[0mTraceback (most recent call last):\n",
            "  File \"/usr/local/lib/python3.10/dist-packages/pip/_vendor/pkg_resources/__init__.py\", line 3108, in _dep_map\n",
            "    return self.__dep_map\n",
            "  File \"/usr/local/lib/python3.10/dist-packages/pip/_vendor/pkg_resources/__init__.py\", line 2901, in __getattr__\n",
            "    raise AttributeError(attr)\n",
            "AttributeError: _DistInfoDistribution__dep_map\n",
            "\n",
            "During handling of the above exception, another exception occurred:\n",
            "\n",
            "Traceback (most recent call last):\n",
            "  File \"/usr/local/lib/python3.10/dist-packages/pip/_internal/cli/base_command.py\", line 169, in exc_logging_wrapper\n",
            "    status = run_func(*args)\n",
            "  File \"/usr/local/lib/python3.10/dist-packages/pip/_internal/cli/req_command.py\", line 242, in wrapper\n",
            "    return func(self, options, args)\n",
            "  File \"/usr/local/lib/python3.10/dist-packages/pip/_internal/commands/install.py\", line 441, in run\n",
            "    conflicts = self._determine_conflicts(to_install)\n",
            "  File \"/usr/local/lib/python3.10/dist-packages/pip/_internal/commands/install.py\", line 572, in _determine_conflicts\n",
            "    return check_install_conflicts(to_install)\n",
            "  File \"/usr/local/lib/python3.10/dist-packages/pip/_internal/operations/check.py\", line 101, in check_install_conflicts\n",
            "    package_set, _ = create_package_set_from_installed()\n",
            "  File \"/usr/local/lib/python3.10/dist-packages/pip/_internal/operations/check.py\", line 42, in create_package_set_from_installed\n",
            "    dependencies = list(dist.iter_dependencies())\n",
            "  File \"/usr/local/lib/python3.10/dist-packages/pip/_internal/metadata/pkg_resources.py\", line 216, in iter_dependencies\n",
            "    return self._dist.requires(extras)\n",
            "  File \"/usr/local/lib/python3.10/dist-packages/pip/_vendor/pkg_resources/__init__.py\", line 2821, in requires\n",
            "    dm = self._dep_map\n",
            "  File \"/usr/local/lib/python3.10/dist-packages/pip/_vendor/pkg_resources/__init__.py\", line 3110, in _dep_map\n",
            "    self.__dep_map = self._compute_dependencies()\n",
            "  File \"/usr/local/lib/python3.10/dist-packages/pip/_vendor/pkg_resources/__init__.py\", line 3127, in _compute_dependencies\n",
            "    common = types.MappingProxyType(dict.fromkeys(reqs_for_extra(None)))\n",
            "  File \"/usr/local/lib/python3.10/dist-packages/pip/_vendor/pkg_resources/__init__.py\", line 3124, in reqs_for_extra\n",
            "    if not req.marker or req.marker.evaluate({'extra': extra}):\n",
            "  File \"/usr/local/lib/python3.10/dist-packages/pip/_vendor/packaging/markers.py\", line 304, in evaluate\n",
            "    return _evaluate_markers(self._markers, current_environment)\n",
            "  File \"/usr/local/lib/python3.10/dist-packages/pip/_vendor/packaging/markers.py\", line 240, in _evaluate_markers\n",
            "    groups[-1].append(_eval_op(lhs_value, op, rhs_value))\n",
            "  File \"/usr/local/lib/python3.10/dist-packages/pip/_vendor/packaging/markers.py\", line 197, in _eval_op\n",
            "    oper: Optional[Operator] = _operators.get(op.serialize())\n",
            "  File \"/usr/local/lib/python3.10/dist-packages/pip/_vendor/packaging/markers.py\", line 80, in serialize\n",
            "    def serialize(self) -> str:\n",
            "KeyboardInterrupt\n",
            "\n",
            "During handling of the above exception, another exception occurred:\n",
            "\n",
            "Traceback (most recent call last):\n",
            "  File \"/usr/local/bin/pip3\", line 8, in <module>\n",
            "    sys.exit(main())\n",
            "  File \"/usr/local/lib/python3.10/dist-packages/pip/_internal/cli/main.py\", line 79, in main\n",
            "    return command.main(cmd_args)\n",
            "  File \"/usr/local/lib/python3.10/dist-packages/pip/_internal/cli/base_command.py\", line 101, in main\n",
            "    return self._main(args)\n",
            "  File \"/usr/local/lib/python3.10/dist-packages/pip/_internal/cli/base_command.py\", line 223, in _main\n",
            "    return run(options, args)\n",
            "  File \"/usr/local/lib/python3.10/dist-packages/pip/_internal/cli/base_command.py\", line 207, in exc_logging_wrapper\n",
            "    logger.debug(\"Exception information:\", exc_info=True)\n",
            "  File \"/usr/lib/python3.10/logging/__init__.py\", line 1465, in debug\n",
            "    self._log(DEBUG, msg, args, **kwargs)\n",
            "  File \"/usr/lib/python3.10/logging/__init__.py\", line 1624, in _log\n",
            "    self.handle(record)\n",
            "  File \"/usr/lib/python3.10/logging/__init__.py\", line 1634, in handle\n",
            "    self.callHandlers(record)\n",
            "  File \"/usr/lib/python3.10/logging/__init__.py\", line 1696, in callHandlers\n",
            "    hdlr.handle(record)\n",
            "  File \"/usr/lib/python3.10/logging/__init__.py\", line 968, in handle\n",
            "    self.emit(record)\n",
            "  File \"/usr/lib/python3.10/logging/handlers.py\", line 75, in emit\n",
            "    logging.FileHandler.emit(self, record)\n",
            "  File \"/usr/lib/python3.10/logging/__init__.py\", line 1218, in emit\n",
            "    StreamHandler.emit(self, record)\n",
            "  File \"/usr/lib/python3.10/logging/__init__.py\", line 1100, in emit\n",
            "    msg = self.format(record)\n",
            "  File \"/usr/lib/python3.10/logging/__init__.py\", line 943, in format\n",
            "    return fmt.format(record)\n",
            "  File \"/usr/local/lib/python3.10/dist-packages/pip/_internal/utils/logging.py\", line 112, in format\n",
            "    formatted = super().format(record)\n",
            "  File \"/usr/lib/python3.10/logging/__init__.py\", line 686, in format\n",
            "    record.exc_text = self.formatException(record.exc_info)\n",
            "  File \"/usr/lib/python3.10/logging/__init__.py\", line 636, in formatException\n",
            "    traceback.print_exception(ei[0], ei[1], tb, None, sio)\n",
            "  File \"/usr/lib/python3.10/traceback.py\", line 119, in print_exception\n",
            "    te = TracebackException(type(value), value, tb, limit=limit, compact=True)\n",
            "  File \"/usr/lib/python3.10/traceback.py\", line 502, in __init__\n",
            "    self.stack = StackSummary.extract(\n",
            "  File \"/usr/lib/python3.10/traceback.py\", line 369, in extract\n",
            "    fnames.add(filename)\n",
            "KeyboardInterrupt\n",
            "^C\n",
            "Requirement already satisfied: torch-geometric in /usr/local/lib/python3.10/dist-packages (2.4.0)\n",
            "Requirement already satisfied: tqdm in /usr/local/lib/python3.10/dist-packages (from torch-geometric) (4.66.1)\n",
            "Requirement already satisfied: numpy in /usr/local/lib/python3.10/dist-packages (from torch-geometric) (1.23.5)\n",
            "Requirement already satisfied: scipy in /usr/local/lib/python3.10/dist-packages (from torch-geometric) (1.11.3)\n",
            "Requirement already satisfied: jinja2 in /usr/local/lib/python3.10/dist-packages (from torch-geometric) (3.1.2)\n",
            "Requirement already satisfied: requests in /usr/local/lib/python3.10/dist-packages (from torch-geometric) (2.31.0)\n",
            "Requirement already satisfied: pyparsing in /usr/local/lib/python3.10/dist-packages (from torch-geometric) (3.1.1)\n",
            "Requirement already satisfied: scikit-learn in /usr/local/lib/python3.10/dist-packages (from torch-geometric) (1.2.2)\n",
            "Requirement already satisfied: psutil>=5.8.0 in /usr/local/lib/python3.10/dist-packages (from torch-geometric) (5.9.5)\n",
            "Requirement already satisfied: MarkupSafe>=2.0 in /usr/local/lib/python3.10/dist-packages (from jinja2->torch-geometric) (2.1.3)\n",
            "Requirement already satisfied: charset-normalizer<4,>=2 in /usr/local/lib/python3.10/dist-packages (from requests->torch-geometric) (3.3.2)\n",
            "Requirement already satisfied: idna<4,>=2.5 in /usr/local/lib/python3.10/dist-packages (from requests->torch-geometric) (3.4)\n",
            "Requirement already satisfied: urllib3<3,>=1.21.1 in /usr/local/lib/python3.10/dist-packages (from requests->torch-geometric) (2.0.7)\n",
            "Requirement already satisfied: certifi>=2017.4.17 in /usr/local/lib/python3.10/dist-packages (from requests->torch-geometric) (2023.7.22)\n",
            "Requirement already satisfied: joblib>=1.1.1 in /usr/local/lib/python3.10/dist-packages (from scikit-learn->torch-geometric) (1.3.2)\n",
            "Requirement already satisfied: threadpoolctl>=2.0.0 in /usr/local/lib/python3.10/dist-packages (from scikit-learn->torch-geometric) (3.2.0)\n",
            "Requirement already satisfied: torch in /usr/local/lib/python3.10/dist-packages (2.1.0+cu118)\n",
            "Requirement already satisfied: torchvision in /usr/local/lib/python3.10/dist-packages (0.16.0+cu118)\n",
            "Requirement already satisfied: filelock in /usr/local/lib/python3.10/dist-packages (from torch) (3.13.1)\n",
            "Requirement already satisfied: typing-extensions in /usr/local/lib/python3.10/dist-packages (from torch) (4.5.0)\n",
            "Requirement already satisfied: sympy in /usr/local/lib/python3.10/dist-packages (from torch) (1.12)\n",
            "Requirement already satisfied: networkx in /usr/local/lib/python3.10/dist-packages (from torch) (3.2.1)\n",
            "Requirement already satisfied: jinja2 in /usr/local/lib/python3.10/dist-packages (from torch) (3.1.2)\n",
            "Requirement already satisfied: fsspec in /usr/local/lib/python3.10/dist-packages (from torch) (2023.6.0)\n",
            "Requirement already satisfied: triton==2.1.0 in /usr/local/lib/python3.10/dist-packages (from torch) (2.1.0)\n",
            "Requirement already satisfied: numpy in /usr/local/lib/python3.10/dist-packages (from torchvision) (1.23.5)\n",
            "Requirement already satisfied: requests in /usr/local/lib/python3.10/dist-packages (from torchvision) (2.31.0)\n",
            "Requirement already satisfied: pillow!=8.3.*,>=5.3.0 in /usr/local/lib/python3.10/dist-packages (from torchvision) (9.4.0)\n",
            "Requirement already satisfied: MarkupSafe>=2.0 in /usr/local/lib/python3.10/dist-packages (from jinja2->torch) (2.1.3)\n",
            "Requirement already satisfied: charset-normalizer<4,>=2 in /usr/local/lib/python3.10/dist-packages (from requests->torchvision) (3.3.2)\n",
            "Requirement already satisfied: idna<4,>=2.5 in /usr/local/lib/python3.10/dist-packages (from requests->torchvision) (3.4)\n",
            "Requirement already satisfied: urllib3<3,>=1.21.1 in /usr/local/lib/python3.10/dist-packages (from requests->torchvision) (2.0.7)\n",
            "Requirement already satisfied: certifi>=2017.4.17 in /usr/local/lib/python3.10/dist-packages (from requests->torchvision) (2023.7.22)\n",
            "Requirement already satisfied: mpmath>=0.19 in /usr/local/lib/python3.10/dist-packages (from sympy->torch) (1.3.0)\n",
            "Requirement already satisfied: torch_xla in /usr/local/lib/python3.10/dist-packages (2.1.0)\n",
            "Requirement already satisfied: absl-py>=1.0.0 in /usr/local/lib/python3.10/dist-packages (from torch_xla) (1.4.0)\n",
            "Requirement already satisfied: cloud-tpu-client>=0.10.0 in /usr/local/lib/python3.10/dist-packages (from torch_xla) (0.10)\n",
            "Requirement already satisfied: pyyaml in /usr/local/lib/python3.10/dist-packages (from torch_xla) (6.0.1)\n",
            "Requirement already satisfied: google-api-python-client==1.8.0 in /usr/local/lib/python3.10/dist-packages (from cloud-tpu-client>=0.10.0->torch_xla) (1.8.0)\n",
            "Requirement already satisfied: oauth2client in /usr/local/lib/python3.10/dist-packages (from cloud-tpu-client>=0.10.0->torch_xla) (4.1.3)\n",
            "Requirement already satisfied: httplib2<1dev,>=0.9.2 in /usr/local/lib/python3.10/dist-packages (from google-api-python-client==1.8.0->cloud-tpu-client>=0.10.0->torch_xla) (0.22.0)\n",
            "Requirement already satisfied: google-auth>=1.4.1 in /usr/local/lib/python3.10/dist-packages (from google-api-python-client==1.8.0->cloud-tpu-client>=0.10.0->torch_xla) (2.17.3)\n",
            "Requirement already satisfied: google-auth-httplib2>=0.0.3 in /usr/local/lib/python3.10/dist-packages (from google-api-python-client==1.8.0->cloud-tpu-client>=0.10.0->torch_xla) (0.1.1)\n",
            "Requirement already satisfied: google-api-core<2dev,>=1.13.0 in /usr/local/lib/python3.10/dist-packages (from google-api-python-client==1.8.0->cloud-tpu-client>=0.10.0->torch_xla) (1.34.0)\n",
            "Requirement already satisfied: six<2dev,>=1.6.1 in /usr/local/lib/python3.10/dist-packages (from google-api-python-client==1.8.0->cloud-tpu-client>=0.10.0->torch_xla) (1.16.0)\n",
            "Requirement already satisfied: uritemplate<4dev,>=3.0.0 in /usr/local/lib/python3.10/dist-packages (from google-api-python-client==1.8.0->cloud-tpu-client>=0.10.0->torch_xla) (3.0.1)\n",
            "Requirement already satisfied: pyasn1>=0.1.7 in /usr/local/lib/python3.10/dist-packages (from oauth2client->cloud-tpu-client>=0.10.0->torch_xla) (0.5.0)\n",
            "Requirement already satisfied: pyasn1-modules>=0.0.5 in /usr/local/lib/python3.10/dist-packages (from oauth2client->cloud-tpu-client>=0.10.0->torch_xla) (0.3.0)\n",
            "Requirement already satisfied: rsa>=3.1.4 in /usr/local/lib/python3.10/dist-packages (from oauth2client->cloud-tpu-client>=0.10.0->torch_xla) (4.9)\n",
            "Requirement already satisfied: googleapis-common-protos<2.0dev,>=1.56.2 in /usr/local/lib/python3.10/dist-packages (from google-api-core<2dev,>=1.13.0->google-api-python-client==1.8.0->cloud-tpu-client>=0.10.0->torch_xla) (1.61.0)\n",
            "Requirement already satisfied: protobuf!=3.20.0,!=3.20.1,!=4.21.0,!=4.21.1,!=4.21.2,!=4.21.3,!=4.21.4,!=4.21.5,<4.0.0dev,>=3.19.5 in /usr/local/lib/python3.10/dist-packages (from google-api-core<2dev,>=1.13.0->google-api-python-client==1.8.0->cloud-tpu-client>=0.10.0->torch_xla) (3.20.3)\n",
            "Requirement already satisfied: requests<3.0.0dev,>=2.18.0 in /usr/local/lib/python3.10/dist-packages (from google-api-core<2dev,>=1.13.0->google-api-python-client==1.8.0->cloud-tpu-client>=0.10.0->torch_xla) (2.31.0)\n",
            "Requirement already satisfied: cachetools<6.0,>=2.0.0 in /usr/local/lib/python3.10/dist-packages (from google-auth>=1.4.1->google-api-python-client==1.8.0->cloud-tpu-client>=0.10.0->torch_xla) (5.3.2)\n",
            "Requirement already satisfied: pyparsing!=3.0.0,!=3.0.1,!=3.0.2,!=3.0.3,<4,>=2.4.2 in /usr/local/lib/python3.10/dist-packages (from httplib2<1dev,>=0.9.2->google-api-python-client==1.8.0->cloud-tpu-client>=0.10.0->torch_xla) (3.1.1)\n",
            "Requirement already satisfied: charset-normalizer<4,>=2 in /usr/local/lib/python3.10/dist-packages (from requests<3.0.0dev,>=2.18.0->google-api-core<2dev,>=1.13.0->google-api-python-client==1.8.0->cloud-tpu-client>=0.10.0->torch_xla) (3.3.2)\n",
            "Requirement already satisfied: idna<4,>=2.5 in /usr/local/lib/python3.10/dist-packages (from requests<3.0.0dev,>=2.18.0->google-api-core<2dev,>=1.13.0->google-api-python-client==1.8.0->cloud-tpu-client>=0.10.0->torch_xla) (3.4)\n",
            "Requirement already satisfied: urllib3<3,>=1.21.1 in /usr/local/lib/python3.10/dist-packages (from requests<3.0.0dev,>=2.18.0->google-api-core<2dev,>=1.13.0->google-api-python-client==1.8.0->cloud-tpu-client>=0.10.0->torch_xla) (2.0.7)\n",
            "Requirement already satisfied: certifi>=2017.4.17 in /usr/local/lib/python3.10/dist-packages (from requests<3.0.0dev,>=2.18.0->google-api-core<2dev,>=1.13.0->google-api-python-client==1.8.0->cloud-tpu-client>=0.10.0->torch_xla) (2023.7.22)\n",
            "Requirement already satisfied: transformers in /usr/local/lib/python3.10/dist-packages (4.35.2)\n",
            "Requirement already satisfied: filelock in /usr/local/lib/python3.10/dist-packages (from transformers) (3.13.1)\n",
            "Requirement already satisfied: huggingface-hub<1.0,>=0.16.4 in /usr/local/lib/python3.10/dist-packages (from transformers) (0.19.4)\n",
            "Requirement already satisfied: numpy>=1.17 in /usr/local/lib/python3.10/dist-packages (from transformers) (1.23.5)\n",
            "Requirement already satisfied: packaging>=20.0 in /usr/local/lib/python3.10/dist-packages (from transformers) (23.2)\n",
            "Requirement already satisfied: pyyaml>=5.1 in /usr/local/lib/python3.10/dist-packages (from transformers) (6.0.1)\n",
            "Requirement already satisfied: regex!=2019.12.17 in /usr/local/lib/python3.10/dist-packages (from transformers) (2023.6.3)\n",
            "Requirement already satisfied: requests in /usr/local/lib/python3.10/dist-packages (from transformers) (2.31.0)\n",
            "Requirement already satisfied: tokenizers<0.19,>=0.14 in /usr/local/lib/python3.10/dist-packages (from transformers) (0.15.0)\n",
            "Requirement already satisfied: safetensors>=0.3.1 in /usr/local/lib/python3.10/dist-packages (from transformers) (0.4.0)\n",
            "Requirement already satisfied: tqdm>=4.27 in /usr/local/lib/python3.10/dist-packages (from transformers) (4.66.1)\n",
            "Requirement already satisfied: fsspec>=2023.5.0 in /usr/local/lib/python3.10/dist-packages (from huggingface-hub<1.0,>=0.16.4->transformers) (2023.6.0)\n",
            "Requirement already satisfied: typing-extensions>=3.7.4.3 in /usr/local/lib/python3.10/dist-packages (from huggingface-hub<1.0,>=0.16.4->transformers) (4.5.0)\n",
            "Requirement already satisfied: charset-normalizer<4,>=2 in /usr/local/lib/python3.10/dist-packages (from requests->transformers) (3.3.2)\n",
            "Requirement already satisfied: idna<4,>=2.5 in /usr/local/lib/python3.10/dist-packages (from requests->transformers) (3.4)\n",
            "Requirement already satisfied: urllib3<3,>=1.21.1 in /usr/local/lib/python3.10/dist-packages (from requests->transformers) (2.0.7)\n",
            "Requirement already satisfied: certifi>=2017.4.17 in /usr/local/lib/python3.10/dist-packages (from requests->transformers) (2023.7.22)\n"
          ]
        }
      ],
      "source": [
        "!pip install graphviz\n",
        "!pip install networkx\n",
        "!pip install torch-geometric\n",
        "!pip install torch torchvision\n",
        "!pip install torch_xla\n",
        "!pip install transformers"
      ]
    },
    {
      "cell_type": "code",
      "source": [
        "# Only run this if you want TPU\n",
        "# !pip install cloud-tpu-client==0.10 torch==2.0.0 torchvision==0.15.1 https://storage.googleapis.com/tpu-pytorch/wheels/colab/torch_xla-2.0-cp310-cp310-linux_x86_64.whl"
      ],
      "metadata": {
        "id": "cmCgj1D6mJ_d"
      },
      "execution_count": null,
      "outputs": []
    },
    {
      "cell_type": "code",
      "execution_count": 7,
      "metadata": {
        "colab": {
          "base_uri": "https://localhost:8080/",
          "height": 213,
          "referenced_widgets": [
            "3ed4724e11f442c38b2577c97a9a4899",
            "a94ca1f700374864bd27e330b6efef58",
            "b6c29653ca754b998dd992e1a524ceed",
            "1f18cc8880214ba8ac756ca69eb02cf7",
            "0813cd41d0f9414fb0dce11d027a3fb9",
            "5ad948a9a8a247229d4affe96cb1652d",
            "84d0cbad452f44be81304b3354cb58b2",
            "94b62f2567ba4b25b0aaeee9c1f713a7",
            "08c41e6c882b4e2fa593c21c3e987687",
            "d80a60035b7646c2bedc5d76ad410512",
            "72e718feea4e4593ac9bbd71c18c1573",
            "21abbf4475a04d5bb91413149f932e2b",
            "3acb956998b94c14920351bbf276d4ed",
            "763ee8dfbe8b408e956f564e1930b15c",
            "8ab21a9d9f4e4584b02f37630b40fce5",
            "7a079da6ea874dc086c2265098e7b34a",
            "8895b0c8bb4d4237b328bbfc2f8742a2",
            "e393ffd2319c4096a34be29510dfb478",
            "83247ac0df084266adc4dc11773056c6",
            "81dc83a9d48946c69223bd198ee2f791",
            "6e86e235dc144bcc8100d7268fee920c",
            "199d903e027a4e81a9dc2c99d539f4da",
            "197a2dba7f604c19894b6b622f371979",
            "3bb1058039c8424a8c6e4dcc196c65a1",
            "b80db20da1d74b8b8821f5647a5d2540",
            "30c198b1814b4cc894c134a3cd758a93",
            "ff40a2b18dfa4f96bcad11e2ee2af1ff",
            "85aa6d4e68dc42fd933b151d3e97f0e2",
            "a09d97900f44495da28dc26e42955e22",
            "6980d232cb8b42e2b013714a2dbda76a",
            "9afd532665614a9a92ebc7acb620dbe6",
            "072cf95e98f34b85bd277593aae40977",
            "3728ce292a8544c2b7ef47dd3b660c4f",
            "1e6e5eb2f6a641b89da57c86a86f605c",
            "342a9a3b8c6b4587b47cd42ede5d24b6",
            "8e513195cc6848c9b771aafec2056a9a",
            "1ee9d05e29ce487c972867f1aacdbd8b",
            "9a7fade943444d4e8d95be15e4af982f",
            "557634a9ebab4dff9b913b1e166b0073",
            "1491b46365ae42948af4df33629609e9",
            "5c6f72fdb68548d3a9122f2f41790f98",
            "f7ce0c4ddb94495fa7f67b83c76a37f2",
            "206a7d1c31f54d61bc93463c0b02a70b",
            "b5ec9bc1899943d0a9015827ddc3d1cb",
            "e223ba1ca58b4ecf8222da88d0d802f8",
            "55d70a4d290a473b8143d88722847128",
            "27be33eb06e74799b27be36c155de005",
            "41e2ad28e05745ce8a26b67c09cc3d3c",
            "c99cccbf67eb4d6f9d6e6300e30f2413",
            "2c6f83ac8efc4837a07a5117ad28e257",
            "0c66e37a075e4515b069df56b6f60e01",
            "16bbb0e288fb41faa6d1518f7ca939f7",
            "b6df371233be4569bafa70222458fe43",
            "0242921ba60e4cd48ea8f666d1d925dd",
            "983f9a0ea23143aab94e3a2a7f5ff8e5"
          ]
        },
        "id": "1f7iau91UbeO",
        "outputId": "ad89e678-165f-4f9e-9cee-1f3316681402"
      },
      "outputs": [
        {
          "output_type": "display_data",
          "data": {
            "text/plain": [
              "config.json:   0%|          | 0.00/758 [00:00<?, ?B/s]"
            ],
            "application/vnd.jupyter.widget-view+json": {
              "version_major": 2,
              "version_minor": 0,
              "model_id": "3ed4724e11f442c38b2577c97a9a4899"
            }
          },
          "metadata": {}
        },
        {
          "output_type": "display_data",
          "data": {
            "text/plain": [
              "pytorch_model.bin:   0%|          | 0.00/438M [00:00<?, ?B/s]"
            ],
            "application/vnd.jupyter.widget-view+json": {
              "version_major": 2,
              "version_minor": 0,
              "model_id": "21abbf4475a04d5bb91413149f932e2b"
            }
          },
          "metadata": {}
        },
        {
          "output_type": "display_data",
          "data": {
            "text/plain": [
              "tokenizer_config.json:   0%|          | 0.00/252 [00:00<?, ?B/s]"
            ],
            "application/vnd.jupyter.widget-view+json": {
              "version_major": 2,
              "version_minor": 0,
              "model_id": "197a2dba7f604c19894b6b622f371979"
            }
          },
          "metadata": {}
        },
        {
          "output_type": "display_data",
          "data": {
            "text/plain": [
              "vocab.txt:   0%|          | 0.00/232k [00:00<?, ?B/s]"
            ],
            "application/vnd.jupyter.widget-view+json": {
              "version_major": 2,
              "version_minor": 0,
              "model_id": "1e6e5eb2f6a641b89da57c86a86f605c"
            }
          },
          "metadata": {}
        },
        {
          "output_type": "display_data",
          "data": {
            "text/plain": [
              "special_tokens_map.json:   0%|          | 0.00/112 [00:00<?, ?B/s]"
            ],
            "application/vnd.jupyter.widget-view+json": {
              "version_major": 2,
              "version_minor": 0,
              "model_id": "e223ba1ca58b4ecf8222da88d0d802f8"
            }
          },
          "metadata": {}
        },
        {
          "output_type": "stream",
          "name": "stderr",
          "text": [
            "[nltk_data] Downloading package stopwords to /root/nltk_data...\n",
            "[nltk_data]   Unzipping corpora/stopwords.zip.\n"
          ]
        }
      ],
      "source": [
        "# Mention all the imports\n",
        "from   collections import defaultdict\n",
        "from   graphviz import Digraph\n",
        "import matplotlib.pyplot as plt\n",
        "import networkx as nx\n",
        "import nltk\n",
        "from   nltk import ngrams\n",
        "from   nltk.corpus import stopwords\n",
        "import numpy as np\n",
        "import os\n",
        "import pandas as pd\n",
        "import re\n",
        "from   sklearn.feature_extraction.text import CountVectorizer\n",
        "import seaborn as sns\n",
        "from   torch_geometric.data import Data, DataLoader\n",
        "import torch_geometric\n",
        "from   torch_geometric.nn import GCNConv\n",
        "from   torch_geometric.utils import to_networkx\n",
        "import torch\n",
        "import torch_xla\n",
        "import torch_xla.core.xla_model as xm\n",
        "import torch.nn as nn\n",
        "import torch.nn.functional as F\n",
        "import torch\n",
        "from   tqdm import tqdm\n",
        "from   util.get_stock_price import get_open_close_prices\n",
        "from   util.predict import predict_for_singletext\n",
        "import warnings\n",
        "\n",
        "nltk.download('stopwords')\n",
        "warnings.filterwarnings(\"ignore\", category=FutureWarning)\n",
        "tqdm.pandas()"
      ]
    },
    {
      "cell_type": "code",
      "execution_count": 8,
      "metadata": {
        "colab": {
          "base_uri": "https://localhost:8080/"
        },
        "id": "9KKBJ_WcSSZQ",
        "outputId": "7834df0f-5586-45d6-a590-afff51a69f79"
      },
      "outputs": [
        {
          "output_type": "stream",
          "name": "stderr",
          "text": [
            "Skipping line 731: expected 8 fields, saw 13\n",
            "Skipping line 2836: expected 8 fields, saw 15\n",
            "Skipping line 3058: expected 8 fields, saw 12\n",
            "Skipping line 3113: expected 8 fields, saw 12\n",
            "Skipping line 3194: expected 8 fields, saw 17\n",
            "Skipping line 3205: expected 8 fields, saw 17\n",
            "Skipping line 3255: expected 8 fields, saw 17\n",
            "Skipping line 3520: expected 8 fields, saw 17\n",
            "Skipping line 4078: expected 8 fields, saw 17\n",
            "Skipping line 4087: expected 8 fields, saw 17\n",
            "Skipping line 4088: expected 8 fields, saw 17\n",
            "Skipping line 4499: expected 8 fields, saw 12\n",
            "\n",
            "100%|██████████| 28264/28264 [00:00<00:00, 261638.92it/s]\n"
          ]
        },
        {
          "output_type": "execute_result",
          "data": {
            "text/plain": [
              "text                            object\n",
              "timestamp                       object\n",
              "source                        category\n",
              "symbols                       category\n",
              "company_names                 category\n",
              "timestamp_alter    datetime64[ns, UTC]\n",
              "date                            object\n",
              "time                            object\n",
              "dtype: object"
            ]
          },
          "metadata": {},
          "execution_count": 8
        }
      ],
      "source": [
        "# Read the csv file\n",
        "stocks = pd.read_csv(os.path.join(DATADIR, 'dataset', 'stocks_cleaned.csv'))\n",
        "stockerbot = pd.read_csv(os.path.join(DATADIR, 'dataset', 'stockerbot-export.csv'), error_bad_lines=False)\n",
        "stockerbot = stockerbot.drop(columns=['id', 'url', 'verified'])\n",
        "\n",
        "# Casting the columns acrroding to our use\n",
        "stockerbot[\"timestamp_alter\"] = pd.to_datetime(stockerbot[\"timestamp\"])\n",
        "stockerbot[\"text\"] = stockerbot[\"text\"].astype(str)\n",
        "stockerbot[\"company_names\"] = stockerbot[\"company_names\"].astype(\"category\")\n",
        "stockerbot[\"symbols\"] = stockerbot[\"symbols\"].astype(\"category\")\n",
        "stockerbot[\"source\"] = stockerbot[\"source\"].astype(\"category\")\n",
        "\n",
        "\n",
        "# Create separate date & time columns for easier manipulation\n",
        "stockerbot['date'] = stockerbot['timestamp_alter'].dt.date\n",
        "stockerbot['time'] = stockerbot['timestamp_alter'].dt.time\n",
        "\n",
        "# Handeling the missing values\n",
        "stockerbot.isnull().any()\n",
        "stockerbot[stockerbot['company_names'].isnull()]\n",
        "\n",
        "# Removing links from the tweets\n",
        "def remove_urls(text):\n",
        "    url_pattern = r'https?://\\S+|www\\.\\S+'\n",
        "    return re.sub(url_pattern, '', text)\n",
        "\n",
        "stockerbot['text'] = stockerbot['text'].progress_apply(remove_urls)\n",
        "stockerbot.dtypes"
      ]
    },
    {
      "cell_type": "code",
      "execution_count": 9,
      "metadata": {
        "colab": {
          "base_uri": "https://localhost:8080/"
        },
        "id": "ymn94XrWZlgL",
        "outputId": "92553345-3fce-476b-a558-0b1f783cd0c1"
      },
      "outputs": [
        {
          "output_type": "execute_result",
          "data": {
            "text/plain": [
              "2018-07-18    11314\n",
              "2018-07-17     5076\n",
              "2018-07-16     3085\n",
              "2018-07-15     2084\n",
              "2018-07-12     1562\n",
              "2018-07-13     1456\n",
              "2018-07-14     1071\n",
              "2018-07-11     1010\n",
              "2018-07-10      920\n",
              "2018-07-09      657\n",
              "2018-07-08       20\n",
              "2018-07-19        8\n",
              "2018-02-23        1\n",
              "Name: date, dtype: int64"
            ]
          },
          "metadata": {},
          "execution_count": 9
        }
      ],
      "source": [
        "# Date wise count of all tweets\n",
        "stockerbot['date'].value_counts()"
      ]
    },
    {
      "cell_type": "code",
      "source": [
        "# Trim it for testing purpose\n",
        "stockerbot = stockerbot.head(100)"
      ],
      "metadata": {
        "id": "BDK26ltuM2_Q"
      },
      "execution_count": 10,
      "outputs": []
    },
    {
      "cell_type": "markdown",
      "metadata": {
        "id": "NTxvKoQue-wj"
      },
      "source": []
    },
    {
      "cell_type": "code",
      "execution_count": 11,
      "metadata": {
        "colab": {
          "base_uri": "https://localhost:8080/"
        },
        "id": "78BywJd_773Q",
        "outputId": "df0d6785-5cee-4fb3-bbae-15c2f332d715"
      },
      "outputs": [
        {
          "output_type": "stream",
          "name": "stderr",
          "text": [
            "100%|██████████| 100/100 [00:34<00:00,  2.92it/s]\n"
          ]
        }
      ],
      "source": [
        "# Get the sentiment of the tweet\n",
        "def get_message_sentiment(text):\n",
        "    return predict_for_singletext(text)[1]\n",
        "\n",
        "stockerbot['msg_type_logits'] = stockerbot['text'].progress_apply(get_message_sentiment)"
      ]
    },
    {
      "cell_type": "code",
      "execution_count": 13,
      "metadata": {
        "id": "NkprvCe4_ip0",
        "colab": {
          "base_uri": "https://localhost:8080/"
        },
        "outputId": "140c1c2f-73c6-4598-fc1d-67b7206c1354"
      },
      "outputs": [
        {
          "output_type": "stream",
          "name": "stderr",
          "text": [
            "\r  0%|          | 0/100 [00:00<?, ?it/s]"
          ]
        },
        {
          "output_type": "stream",
          "name": "stdout",
          "text": [
            "\r[*********************100%%**********************]  1 of 1 completed"
          ]
        },
        {
          "output_type": "stream",
          "name": "stderr",
          "text": [
            "\r  2%|▏         | 2/100 [00:00<00:31,  3.10it/s]"
          ]
        },
        {
          "output_type": "stream",
          "name": "stdout",
          "text": [
            "\n",
            "[*********************100%%**********************]  1 of 1 completed"
          ]
        },
        {
          "output_type": "stream",
          "name": "stderr",
          "text": [
            "\r  3%|▎         | 3/100 [00:01<00:34,  2.83it/s]"
          ]
        },
        {
          "output_type": "stream",
          "name": "stdout",
          "text": [
            "\n",
            "[*********************100%%**********************]  1 of 1 completed"
          ]
        },
        {
          "output_type": "stream",
          "name": "stderr",
          "text": [
            "\r  4%|▍         | 4/100 [00:01<00:38,  2.52it/s]"
          ]
        },
        {
          "output_type": "stream",
          "name": "stdout",
          "text": [
            "\n",
            "[*********************100%%**********************]  1 of 1 completed"
          ]
        },
        {
          "output_type": "stream",
          "name": "stderr",
          "text": [
            "ERROR:yfinance:\n",
            "1 Failed download:\n",
            "ERROR:yfinance:['BTC']: Exception(\"%ticker%: Data doesn't exist for startDate = 1531972800, endDate = 1532030400\")\n",
            "  5%|▌         | 5/100 [00:01<00:36,  2.62it/s]"
          ]
        },
        {
          "output_type": "stream",
          "name": "stdout",
          "text": [
            "\n",
            "[*********************100%%**********************]  1 of 1 completed"
          ]
        },
        {
          "output_type": "stream",
          "name": "stderr",
          "text": [
            "\r  6%|▌         | 6/100 [00:02<00:35,  2.64it/s]"
          ]
        },
        {
          "output_type": "stream",
          "name": "stdout",
          "text": [
            "\n",
            "\r[*********************100%%**********************]  1 of 1 completed"
          ]
        },
        {
          "output_type": "stream",
          "name": "stderr",
          "text": [
            "ERROR:yfinance:\n",
            "1 Failed download:\n",
            "ERROR:yfinance:['FB-GOOGL-GOOG']: Exception('%ticker%: No timezone found, symbol may be delisted')\n",
            "  7%|▋         | 7/100 [00:02<00:29,  3.16it/s]"
          ]
        },
        {
          "output_type": "stream",
          "name": "stdout",
          "text": [
            "\n",
            "[*********************100%%**********************]  1 of 1 completed"
          ]
        },
        {
          "output_type": "stream",
          "name": "stderr",
          "text": [
            "ERROR:yfinance:\n",
            "1 Failed download:\n",
            "ERROR:yfinance:['HRS']: Exception('%ticker%: No timezone found, symbol may be delisted')\n",
            "  8%|▊         | 8/100 [00:02<00:25,  3.68it/s]"
          ]
        },
        {
          "output_type": "stream",
          "name": "stdout",
          "text": [
            "\n",
            "[*********************100%%**********************]  1 of 1 completed"
          ]
        },
        {
          "output_type": "stream",
          "name": "stderr",
          "text": [
            "ERROR:yfinance:\n",
            "1 Failed download:\n",
            "ERROR:yfinance:['INTC-USB']: Exception('%ticker%: No timezone found, symbol may be delisted')\n",
            "  9%|▉         | 9/100 [00:02<00:22,  4.13it/s]"
          ]
        },
        {
          "output_type": "stream",
          "name": "stdout",
          "text": [
            "\n",
            "[*********************100%%**********************]  1 of 1 completed"
          ]
        },
        {
          "output_type": "stream",
          "name": "stderr",
          "text": [
            "\r 10%|█         | 10/100 [00:03<00:25,  3.59it/s]"
          ]
        },
        {
          "output_type": "stream",
          "name": "stdout",
          "text": [
            "\n",
            "\r[*********************100%%**********************]  1 of 1 completed"
          ]
        },
        {
          "output_type": "stream",
          "name": "stderr",
          "text": [
            "ERROR:yfinance:\n",
            "1 Failed download:\n",
            "ERROR:yfinance:['BTC']: Exception(\"%ticker%: Data doesn't exist for startDate = 1531972800, endDate = 1532030400\")\n",
            " 11%|█         | 11/100 [00:03<00:22,  4.02it/s]"
          ]
        },
        {
          "output_type": "stream",
          "name": "stdout",
          "text": [
            "\n",
            "[*********************100%%**********************]  1 of 1 completed"
          ]
        },
        {
          "output_type": "stream",
          "name": "stderr",
          "text": [
            "ERROR:yfinance:\n",
            "1 Failed download:\n",
            "ERROR:yfinance:['TWX']: Exception('%ticker%: No price data found, symbol may be delisted (1d 2018-07-19 00:00:00 -> 2018-07-19 16:00:00)')\n",
            " 12%|█▏        | 12/100 [00:03<00:25,  3.48it/s]"
          ]
        },
        {
          "output_type": "stream",
          "name": "stdout",
          "text": [
            "\n",
            "\r[*********************100%%**********************]  1 of 1 completed"
          ]
        },
        {
          "output_type": "stream",
          "name": "stderr",
          "text": [
            "ERROR:yfinance:\n",
            "1 Failed download:\n",
            "ERROR:yfinance:['ENDP']: Exception('%ticker%: No timezone found, symbol may be delisted')\n",
            " 13%|█▎        | 13/100 [00:03<00:22,  3.94it/s]"
          ]
        },
        {
          "output_type": "stream",
          "name": "stdout",
          "text": [
            "\n",
            "[*********************100%%**********************]  1 of 1 completed"
          ]
        },
        {
          "output_type": "stream",
          "name": "stderr",
          "text": [
            "\r 14%|█▍        | 14/100 [00:04<00:28,  3.00it/s]"
          ]
        },
        {
          "output_type": "stream",
          "name": "stdout",
          "text": [
            "\n",
            "[*********************100%%**********************]  1 of 1 completed"
          ]
        },
        {
          "output_type": "stream",
          "name": "stderr",
          "text": [
            "\r 15%|█▌        | 15/100 [00:04<00:26,  3.15it/s]"
          ]
        },
        {
          "output_type": "stream",
          "name": "stdout",
          "text": [
            "\n",
            "[*********************100%%**********************]  1 of 1 completed"
          ]
        },
        {
          "output_type": "stream",
          "name": "stderr",
          "text": [
            "\r 16%|█▌        | 16/100 [00:05<00:28,  2.91it/s]"
          ]
        },
        {
          "output_type": "stream",
          "name": "stdout",
          "text": [
            "\n",
            "\r[*********************100%%**********************]  1 of 1 completed"
          ]
        },
        {
          "output_type": "stream",
          "name": "stderr",
          "text": [
            "ERROR:yfinance:\n",
            "1 Failed download:\n",
            "ERROR:yfinance:['AMZN-GPS']: Exception('%ticker%: No timezone found, symbol may be delisted')\n",
            " 17%|█▋        | 17/100 [00:05<00:24,  3.39it/s]"
          ]
        },
        {
          "output_type": "stream",
          "name": "stdout",
          "text": [
            "\n",
            "[*********************100%%**********************]  1 of 1 completed"
          ]
        },
        {
          "output_type": "stream",
          "name": "stderr",
          "text": [
            "ERROR:yfinance:\n",
            "1 Failed download:\n",
            "ERROR:yfinance:['ENDP']: Exception('%ticker%: No timezone found, symbol may be delisted')\n",
            " 18%|█▊        | 18/100 [00:05<00:21,  3.84it/s]"
          ]
        },
        {
          "output_type": "stream",
          "name": "stdout",
          "text": [
            "\n",
            "[*********************100%%**********************]  1 of 1 completed"
          ]
        },
        {
          "output_type": "stream",
          "name": "stderr",
          "text": [
            "\r 19%|█▉        | 19/100 [00:05<00:25,  3.15it/s]"
          ]
        },
        {
          "output_type": "stream",
          "name": "stdout",
          "text": [
            "\n",
            "\r[*********************100%%**********************]  1 of 1 completed"
          ]
        },
        {
          "output_type": "stream",
          "name": "stderr",
          "text": [
            "ERROR:yfinance:\n",
            "1 Failed download:\n",
            "ERROR:yfinance:['TICKER']: Exception('%ticker%: No timezone found, symbol may be delisted')\n",
            " 20%|██        | 20/100 [00:06<00:21,  3.65it/s]"
          ]
        },
        {
          "output_type": "stream",
          "name": "stdout",
          "text": [
            "\n",
            "[*********************100%%**********************]  1 of 1 completed"
          ]
        },
        {
          "output_type": "stream",
          "name": "stderr",
          "text": [
            "\r 21%|██        | 21/100 [00:06<00:26,  2.99it/s]"
          ]
        },
        {
          "output_type": "stream",
          "name": "stdout",
          "text": [
            "\n",
            "\r[*********************100%%**********************]  1 of 1 completed"
          ]
        },
        {
          "output_type": "stream",
          "name": "stderr",
          "text": [
            "ERROR:yfinance:\n",
            "1 Failed download:\n",
            "ERROR:yfinance:['CBS']: Exception('%ticker%: No timezone found, symbol may be delisted')\n",
            " 22%|██▏       | 22/100 [00:06<00:22,  3.50it/s]"
          ]
        },
        {
          "output_type": "stream",
          "name": "stdout",
          "text": [
            "\n",
            "[*********************100%%**********************]  1 of 1 completed"
          ]
        },
        {
          "output_type": "stream",
          "name": "stderr",
          "text": [
            "\r 23%|██▎       | 23/100 [00:07<00:24,  3.11it/s]"
          ]
        },
        {
          "output_type": "stream",
          "name": "stdout",
          "text": [
            "\n",
            "[*********************100%%**********************]  1 of 1 completed"
          ]
        },
        {
          "output_type": "stream",
          "name": "stderr",
          "text": [
            "\r 24%|██▍       | 24/100 [00:07<00:25,  3.02it/s]"
          ]
        },
        {
          "output_type": "stream",
          "name": "stdout",
          "text": [
            "\n",
            "[*********************100%%**********************]  1 of 1 completed"
          ]
        },
        {
          "output_type": "stream",
          "name": "stderr",
          "text": [
            "\r 25%|██▌       | 25/100 [00:07<00:25,  2.90it/s]"
          ]
        },
        {
          "output_type": "stream",
          "name": "stdout",
          "text": [
            "\n",
            "[*********************100%%**********************]  1 of 1 completed"
          ]
        },
        {
          "output_type": "stream",
          "name": "stderr",
          "text": [
            "\r 26%|██▌       | 26/100 [00:08<00:26,  2.75it/s]"
          ]
        },
        {
          "output_type": "stream",
          "name": "stdout",
          "text": [
            "\n",
            "\r[*********************100%%**********************]  1 of 1 completed"
          ]
        },
        {
          "output_type": "stream",
          "name": "stderr",
          "text": [
            "ERROR:yfinance:\n",
            "1 Failed download:\n",
            "ERROR:yfinance:['TWTR']: Exception('%ticker%: No timezone found, symbol may be delisted')\n",
            " 27%|██▋       | 27/100 [00:08<00:22,  3.20it/s]"
          ]
        },
        {
          "output_type": "stream",
          "name": "stdout",
          "text": [
            "\n",
            "[*********************100%%**********************]  1 of 1 completed"
          ]
        },
        {
          "output_type": "stream",
          "name": "stderr",
          "text": [
            "ERROR:yfinance:\n",
            "1 Failed download:\n",
            "ERROR:yfinance:['FB']: Exception('%ticker%: No timezone found, symbol may be delisted')\n",
            " 28%|██▊       | 28/100 [00:08<00:20,  3.45it/s]"
          ]
        },
        {
          "output_type": "stream",
          "name": "stdout",
          "text": [
            "\n",
            "[*********************100%%**********************]  1 of 1 completed"
          ]
        },
        {
          "output_type": "stream",
          "name": "stderr",
          "text": [
            "\r 29%|██▉       | 29/100 [00:09<00:26,  2.69it/s]"
          ]
        },
        {
          "output_type": "stream",
          "name": "stdout",
          "text": [
            "\n",
            "[*********************100%%**********************]  1 of 1 completed"
          ]
        },
        {
          "output_type": "stream",
          "name": "stderr",
          "text": [
            "\r 30%|███       | 30/100 [00:09<00:29,  2.34it/s]"
          ]
        },
        {
          "output_type": "stream",
          "name": "stdout",
          "text": [
            "\n",
            "[*********************100%%**********************]  1 of 1 completed"
          ]
        },
        {
          "output_type": "stream",
          "name": "stderr",
          "text": [
            "\r 31%|███       | 31/100 [00:10<00:26,  2.56it/s]"
          ]
        },
        {
          "output_type": "stream",
          "name": "stdout",
          "text": [
            "\n",
            "[*********************100%%**********************]  1 of 1 completed"
          ]
        },
        {
          "output_type": "stream",
          "name": "stderr",
          "text": [
            "ERROR:yfinance:\n",
            "1 Failed download:\n",
            "ERROR:yfinance:['INFO']: Exception('%ticker%: No timezone found, symbol may be delisted')\n",
            " 32%|███▏      | 32/100 [00:10<00:23,  2.86it/s]"
          ]
        },
        {
          "output_type": "stream",
          "name": "stdout",
          "text": [
            "\n",
            "[*********************100%%**********************]  1 of 1 completed"
          ]
        },
        {
          "output_type": "stream",
          "name": "stderr",
          "text": [
            "\r 33%|███▎      | 33/100 [00:10<00:27,  2.45it/s]"
          ]
        },
        {
          "output_type": "stream",
          "name": "stdout",
          "text": [
            "\n",
            "[*********************100%%**********************]  1 of 1 completed"
          ]
        },
        {
          "output_type": "stream",
          "name": "stderr",
          "text": [
            "\r 34%|███▍      | 34/100 [00:11<00:31,  2.12it/s]"
          ]
        },
        {
          "output_type": "stream",
          "name": "stdout",
          "text": [
            "\n",
            "[*********************100%%**********************]  1 of 1 completed"
          ]
        },
        {
          "output_type": "stream",
          "name": "stderr",
          "text": [
            "\r 35%|███▌      | 35/100 [00:12<00:33,  1.96it/s]"
          ]
        },
        {
          "output_type": "stream",
          "name": "stdout",
          "text": [
            "\n",
            "[*********************100%%**********************]  1 of 1 completed"
          ]
        },
        {
          "output_type": "stream",
          "name": "stderr",
          "text": [
            "\r 36%|███▌      | 36/100 [00:12<00:28,  2.21it/s]"
          ]
        },
        {
          "output_type": "stream",
          "name": "stdout",
          "text": [
            "\n",
            "[*********************100%%**********************]  1 of 1 completed"
          ]
        },
        {
          "output_type": "stream",
          "name": "stderr",
          "text": [
            "\r 37%|███▋      | 37/100 [00:12<00:26,  2.41it/s]"
          ]
        },
        {
          "output_type": "stream",
          "name": "stdout",
          "text": [
            "\n",
            "[*********************100%%**********************]  1 of 1 completed"
          ]
        },
        {
          "output_type": "stream",
          "name": "stderr",
          "text": [
            "\r 38%|███▊      | 38/100 [00:13<00:24,  2.55it/s]"
          ]
        },
        {
          "output_type": "stream",
          "name": "stdout",
          "text": [
            "\n",
            "[*********************100%%**********************]  1 of 1 completed"
          ]
        },
        {
          "output_type": "stream",
          "name": "stderr",
          "text": [
            "\r 39%|███▉      | 39/100 [00:13<00:26,  2.29it/s]"
          ]
        },
        {
          "output_type": "stream",
          "name": "stdout",
          "text": [
            "\n",
            "[*********************100%%**********************]  1 of 1 completed"
          ]
        },
        {
          "output_type": "stream",
          "name": "stderr",
          "text": [
            "\r 40%|████      | 40/100 [00:14<00:27,  2.19it/s]"
          ]
        },
        {
          "output_type": "stream",
          "name": "stdout",
          "text": [
            "\n",
            "[*********************100%%**********************]  1 of 1 completed"
          ]
        },
        {
          "output_type": "stream",
          "name": "stderr",
          "text": [
            "\r 41%|████      | 41/100 [00:14<00:23,  2.51it/s]"
          ]
        },
        {
          "output_type": "stream",
          "name": "stdout",
          "text": [
            "\n",
            "[*********************100%%**********************]  1 of 1 completed"
          ]
        },
        {
          "output_type": "stream",
          "name": "stderr",
          "text": [
            "\r 42%|████▏     | 42/100 [00:14<00:24,  2.36it/s]"
          ]
        },
        {
          "output_type": "stream",
          "name": "stdout",
          "text": [
            "\n",
            "[*********************100%%**********************]  1 of 1 completed"
          ]
        },
        {
          "output_type": "stream",
          "name": "stderr",
          "text": [
            "\r 43%|████▎     | 43/100 [00:15<00:25,  2.20it/s]"
          ]
        },
        {
          "output_type": "stream",
          "name": "stdout",
          "text": [
            "\n",
            "[*********************100%%**********************]  1 of 1 completed"
          ]
        },
        {
          "output_type": "stream",
          "name": "stderr",
          "text": [
            "\r 44%|████▍     | 44/100 [00:15<00:21,  2.63it/s]"
          ]
        },
        {
          "output_type": "stream",
          "name": "stdout",
          "text": [
            "\n",
            "[*********************100%%**********************]  1 of 1 completed"
          ]
        },
        {
          "output_type": "stream",
          "name": "stderr",
          "text": [
            "\r 45%|████▌     | 45/100 [00:16<00:21,  2.54it/s]"
          ]
        },
        {
          "output_type": "stream",
          "name": "stdout",
          "text": [
            "\n",
            "[*********************100%%**********************]  1 of 1 completed"
          ]
        },
        {
          "output_type": "stream",
          "name": "stderr",
          "text": [
            "\r 46%|████▌     | 46/100 [00:16<00:21,  2.46it/s]"
          ]
        },
        {
          "output_type": "stream",
          "name": "stdout",
          "text": [
            "\n",
            "\r[*********************100%%**********************]  1 of 1 completed"
          ]
        },
        {
          "output_type": "stream",
          "name": "stderr",
          "text": [
            "\r 47%|████▋     | 47/100 [00:16<00:17,  2.96it/s]"
          ]
        },
        {
          "output_type": "stream",
          "name": "stdout",
          "text": [
            "\n",
            "[*********************100%%**********************]  1 of 1 completed"
          ]
        },
        {
          "output_type": "stream",
          "name": "stderr",
          "text": [
            "\r 48%|████▊     | 48/100 [00:17<00:19,  2.72it/s]"
          ]
        },
        {
          "output_type": "stream",
          "name": "stdout",
          "text": [
            "\n",
            "[*********************100%%**********************]  1 of 1 completed"
          ]
        },
        {
          "output_type": "stream",
          "name": "stderr",
          "text": [
            "\r 49%|████▉     | 49/100 [00:17<00:20,  2.50it/s]"
          ]
        },
        {
          "output_type": "stream",
          "name": "stdout",
          "text": [
            "\n",
            "[*********************100%%**********************]  1 of 1 completed"
          ]
        },
        {
          "output_type": "stream",
          "name": "stderr",
          "text": [
            "\r 50%|█████     | 50/100 [00:17<00:19,  2.55it/s]"
          ]
        },
        {
          "output_type": "stream",
          "name": "stdout",
          "text": [
            "\n",
            "[*********************100%%**********************]  1 of 1 completed"
          ]
        },
        {
          "output_type": "stream",
          "name": "stderr",
          "text": [
            "\r 51%|█████     | 51/100 [00:18<00:18,  2.58it/s]"
          ]
        },
        {
          "output_type": "stream",
          "name": "stdout",
          "text": [
            "\n",
            "\r[*********************100%%**********************]  1 of 1 completed"
          ]
        },
        {
          "output_type": "stream",
          "name": "stderr",
          "text": [
            "ERROR:yfinance:\n",
            "1 Failed download:\n",
            "ERROR:yfinance:['JEC']: Exception('%ticker%: No timezone found, symbol may be delisted')\n",
            " 52%|█████▏    | 52/100 [00:18<00:15,  3.06it/s]"
          ]
        },
        {
          "output_type": "stream",
          "name": "stdout",
          "text": [
            "\n",
            "[*********************100%%**********************]  1 of 1 completed"
          ]
        },
        {
          "output_type": "stream",
          "name": "stderr",
          "text": [
            "ERROR:yfinance:\n",
            "1 Failed download:\n",
            "ERROR:yfinance:['JEC']: Exception('%ticker%: No timezone found, symbol may be delisted')\n"
          ]
        },
        {
          "output_type": "stream",
          "name": "stdout",
          "text": [
            "\n"
          ]
        },
        {
          "output_type": "stream",
          "name": "stderr",
          "text": [
            "\r 53%|█████▎    | 53/100 [00:18<00:13,  3.47it/s]"
          ]
        },
        {
          "output_type": "stream",
          "name": "stdout",
          "text": [
            "\r[*********************100%%**********************]  1 of 1 completed"
          ]
        },
        {
          "output_type": "stream",
          "name": "stderr",
          "text": [
            "ERROR:yfinance:\n",
            "1 Failed download:\n",
            "ERROR:yfinance:['JEC']: Exception('%ticker%: No timezone found, symbol may be delisted')\n",
            " 54%|█████▍    | 54/100 [00:18<00:12,  3.73it/s]"
          ]
        },
        {
          "output_type": "stream",
          "name": "stdout",
          "text": [
            "\n",
            "[*********************100%%**********************]  1 of 1 completed"
          ]
        },
        {
          "output_type": "stream",
          "name": "stderr",
          "text": [
            "\r 55%|█████▌    | 55/100 [00:19<00:13,  3.36it/s]"
          ]
        },
        {
          "output_type": "stream",
          "name": "stdout",
          "text": [
            "\n",
            "[*********************100%%**********************]  1 of 1 completed"
          ]
        },
        {
          "output_type": "stream",
          "name": "stderr",
          "text": [
            "\r 56%|█████▌    | 56/100 [00:19<00:14,  2.96it/s]"
          ]
        },
        {
          "output_type": "stream",
          "name": "stdout",
          "text": [
            "\n",
            "\r[*********************100%%**********************]  1 of 1 completed"
          ]
        },
        {
          "output_type": "stream",
          "name": "stderr",
          "text": [
            "ERROR:yfinance:\n",
            "1 Failed download:\n",
            "ERROR:yfinance:['JEC']: Exception('%ticker%: No timezone found, symbol may be delisted')\n",
            " 57%|█████▋    | 57/100 [00:19<00:12,  3.46it/s]"
          ]
        },
        {
          "output_type": "stream",
          "name": "stdout",
          "text": [
            "\n",
            "[*********************100%%**********************]  1 of 1 completed"
          ]
        },
        {
          "output_type": "stream",
          "name": "stderr",
          "text": [
            "\r 58%|█████▊    | 58/100 [00:20<00:12,  3.25it/s]"
          ]
        },
        {
          "output_type": "stream",
          "name": "stdout",
          "text": [
            "\n",
            "\r[*********************100%%**********************]  1 of 1 completed"
          ]
        },
        {
          "output_type": "stream",
          "name": "stderr",
          "text": [
            "ERROR:yfinance:\n",
            "1 Failed download:\n",
            "ERROR:yfinance:['INFO']: Exception('%ticker%: No timezone found, symbol may be delisted')\n",
            " 59%|█████▉    | 59/100 [00:20<00:10,  3.73it/s]"
          ]
        },
        {
          "output_type": "stream",
          "name": "stdout",
          "text": [
            "\n",
            "[*********************100%%**********************]  1 of 1 completed"
          ]
        },
        {
          "output_type": "stream",
          "name": "stderr",
          "text": [
            "\r 60%|██████    | 60/100 [00:20<00:10,  3.99it/s]"
          ]
        },
        {
          "output_type": "stream",
          "name": "stdout",
          "text": [
            "\n",
            "[*********************100%%**********************]  1 of 1 completed"
          ]
        },
        {
          "output_type": "stream",
          "name": "stderr",
          "text": [
            "ERROR:yfinance:\n",
            "1 Failed download:\n",
            "ERROR:yfinance:['ARRY']: Exception(\"%ticker%: Data doesn't exist for startDate = 1531108800, endDate = 1531166400\")\n",
            " 61%|██████    | 61/100 [00:20<00:11,  3.54it/s]"
          ]
        },
        {
          "output_type": "stream",
          "name": "stdout",
          "text": [
            "\n",
            "[*********************100%%**********************]  1 of 1 completed"
          ]
        },
        {
          "output_type": "stream",
          "name": "stderr",
          "text": [
            "\r 62%|██████▏   | 62/100 [00:21<00:12,  3.05it/s]"
          ]
        },
        {
          "output_type": "stream",
          "name": "stdout",
          "text": [
            "\n",
            "[*********************100%%**********************]  1 of 1 completed"
          ]
        },
        {
          "output_type": "stream",
          "name": "stderr",
          "text": [
            "\r 63%|██████▎   | 63/100 [00:21<00:11,  3.28it/s]"
          ]
        },
        {
          "output_type": "stream",
          "name": "stdout",
          "text": [
            "\n",
            "[*********************100%%**********************]  1 of 1 completed"
          ]
        },
        {
          "output_type": "stream",
          "name": "stderr",
          "text": [
            "\r 64%|██████▍   | 64/100 [00:21<00:10,  3.57it/s]"
          ]
        },
        {
          "output_type": "stream",
          "name": "stdout",
          "text": [
            "\n",
            "\r[*********************100%%**********************]  1 of 1 completed"
          ]
        },
        {
          "output_type": "stream",
          "name": "stderr",
          "text": [
            "ERROR:yfinance:\n",
            "1 Failed download:\n",
            "ERROR:yfinance:['ARRY']: Exception(\"%ticker%: Data doesn't exist for startDate = 1531108800, endDate = 1531166400\")\n",
            " 65%|██████▌   | 65/100 [00:22<00:08,  4.03it/s]"
          ]
        },
        {
          "output_type": "stream",
          "name": "stdout",
          "text": [
            "\n",
            "[*********************100%%**********************]  1 of 1 completed"
          ]
        },
        {
          "output_type": "stream",
          "name": "stderr",
          "text": [
            "\r 66%|██████▌   | 66/100 [00:22<00:10,  3.25it/s]"
          ]
        },
        {
          "output_type": "stream",
          "name": "stdout",
          "text": [
            "\n",
            "[*********************100%%**********************]  1 of 1 completed"
          ]
        },
        {
          "output_type": "stream",
          "name": "stderr",
          "text": [
            "\r 67%|██████▋   | 67/100 [00:22<00:09,  3.53it/s]"
          ]
        },
        {
          "output_type": "stream",
          "name": "stdout",
          "text": [
            "\n",
            "[*********************100%%**********************]  1 of 1 completed"
          ]
        },
        {
          "output_type": "stream",
          "name": "stderr",
          "text": [
            "\r 68%|██████▊   | 68/100 [00:23<00:08,  3.57it/s]"
          ]
        },
        {
          "output_type": "stream",
          "name": "stdout",
          "text": [
            "\n",
            "\r[*********************100%%**********************]  1 of 1 completed"
          ]
        },
        {
          "output_type": "stream",
          "name": "stderr",
          "text": [
            "\r 69%|██████▉   | 69/100 [00:23<00:07,  3.99it/s]"
          ]
        },
        {
          "output_type": "stream",
          "name": "stdout",
          "text": [
            "\n",
            "[*********************100%%**********************]  1 of 1 completed"
          ]
        },
        {
          "output_type": "stream",
          "name": "stderr",
          "text": [
            "ERROR:yfinance:\n",
            "1 Failed download:\n",
            "ERROR:yfinance:['ARRY']: Exception(\"%ticker%: Data doesn't exist for startDate = 1531108800, endDate = 1531166400\")\n",
            " 70%|███████   | 70/100 [00:23<00:06,  4.32it/s]"
          ]
        },
        {
          "output_type": "stream",
          "name": "stdout",
          "text": [
            "\n",
            "[*********************100%%**********************]  1 of 1 completed"
          ]
        },
        {
          "output_type": "stream",
          "name": "stderr",
          "text": [
            "\r 71%|███████   | 71/100 [00:23<00:07,  3.72it/s]"
          ]
        },
        {
          "output_type": "stream",
          "name": "stdout",
          "text": [
            "\n",
            "\r[*********************100%%**********************]  1 of 1 completed"
          ]
        },
        {
          "output_type": "stream",
          "name": "stderr",
          "text": [
            "ERROR:yfinance:\n",
            "1 Failed download:\n",
            "ERROR:yfinance:['ARRY']: Exception(\"%ticker%: Data doesn't exist for startDate = 1531108800, endDate = 1531166400\")\n",
            " 72%|███████▏  | 72/100 [00:23<00:06,  4.16it/s]"
          ]
        },
        {
          "output_type": "stream",
          "name": "stdout",
          "text": [
            "\n",
            "[*********************100%%**********************]  1 of 1 completed"
          ]
        },
        {
          "output_type": "stream",
          "name": "stderr",
          "text": [
            "\r 73%|███████▎  | 73/100 [00:24<00:06,  4.39it/s]"
          ]
        },
        {
          "output_type": "stream",
          "name": "stdout",
          "text": [
            "\n",
            "\r[*********************100%%**********************]  1 of 1 completed"
          ]
        },
        {
          "output_type": "stream",
          "name": "stderr",
          "text": [
            "ERROR:yfinance:\n",
            "1 Failed download:\n",
            "ERROR:yfinance:['ARRY']: Exception(\"%ticker%: Data doesn't exist for startDate = 1531108800, endDate = 1531166400\")\n",
            " 74%|███████▍  | 74/100 [00:24<00:05,  4.72it/s]"
          ]
        },
        {
          "output_type": "stream",
          "name": "stdout",
          "text": [
            "\n",
            "[*********************100%%**********************]  1 of 1 completed"
          ]
        },
        {
          "output_type": "stream",
          "name": "stderr",
          "text": [
            "\r 75%|███████▌  | 75/100 [00:24<00:05,  4.73it/s]"
          ]
        },
        {
          "output_type": "stream",
          "name": "stdout",
          "text": [
            "\n",
            "\r[*********************100%%**********************]  1 of 1 completed"
          ]
        },
        {
          "output_type": "stream",
          "name": "stderr",
          "text": [
            "ERROR:yfinance:\n",
            "1 Failed download:\n",
            "ERROR:yfinance:['JEC']: Exception('%ticker%: No timezone found, symbol may be delisted')\n",
            " 76%|███████▌  | 76/100 [00:24<00:04,  4.86it/s]"
          ]
        },
        {
          "output_type": "stream",
          "name": "stdout",
          "text": [
            "\n",
            "[*********************100%%**********************]  1 of 1 completed"
          ]
        },
        {
          "output_type": "stream",
          "name": "stderr",
          "text": [
            "ERROR:yfinance:\n",
            "1 Failed download:\n",
            "ERROR:yfinance:['FNSR']: Exception('%ticker%: No timezone found, symbol may be delisted')\n",
            " 77%|███████▋  | 77/100 [00:24<00:04,  5.02it/s]"
          ]
        },
        {
          "output_type": "stream",
          "name": "stdout",
          "text": [
            "\n",
            "[*********************100%%**********************]  1 of 1 completed"
          ]
        },
        {
          "output_type": "stream",
          "name": "stderr",
          "text": [
            "ERROR:yfinance:\n",
            "1 Failed download:\n",
            "ERROR:yfinance:['FNSR']: Exception('%ticker%: No timezone found, symbol may be delisted')\n",
            " 78%|███████▊  | 78/100 [00:25<00:04,  5.06it/s]"
          ]
        },
        {
          "output_type": "stream",
          "name": "stdout",
          "text": [
            "\n",
            "[*********************100%%**********************]  1 of 1 completed"
          ]
        },
        {
          "output_type": "stream",
          "name": "stderr",
          "text": [
            "\r 79%|███████▉  | 79/100 [00:25<00:06,  3.37it/s]"
          ]
        },
        {
          "output_type": "stream",
          "name": "stdout",
          "text": [
            "\n",
            "[*********************100%%**********************]  1 of 1 completed"
          ]
        },
        {
          "output_type": "stream",
          "name": "stderr",
          "text": [
            "ERROR:yfinance:\n",
            "1 Failed download:\n",
            "ERROR:yfinance:['ARRY']: Exception(\"%ticker%: Data doesn't exist for startDate = 1531108800, endDate = 1531166400\")\n",
            " 80%|████████  | 80/100 [00:25<00:05,  3.60it/s]"
          ]
        },
        {
          "output_type": "stream",
          "name": "stdout",
          "text": [
            "\n",
            "[*********************100%%**********************]  1 of 1 completed"
          ]
        },
        {
          "output_type": "stream",
          "name": "stderr",
          "text": [
            "\r 81%|████████  | 81/100 [00:26<00:05,  3.72it/s]"
          ]
        },
        {
          "output_type": "stream",
          "name": "stdout",
          "text": [
            "\n",
            "[*********************100%%**********************]  1 of 1 completed"
          ]
        },
        {
          "output_type": "stream",
          "name": "stderr",
          "text": [
            "ERROR:yfinance:\n",
            "1 Failed download:\n",
            "ERROR:yfinance:['ARRY']: Exception(\"%ticker%: Data doesn't exist for startDate = 1531108800, endDate = 1531166400\")\n",
            " 82%|████████▏ | 82/100 [00:26<00:04,  3.88it/s]"
          ]
        },
        {
          "output_type": "stream",
          "name": "stdout",
          "text": [
            "\n",
            "[*********************100%%**********************]  1 of 1 completed"
          ]
        },
        {
          "output_type": "stream",
          "name": "stderr",
          "text": [
            "\r 83%|████████▎ | 83/100 [00:26<00:04,  3.65it/s]"
          ]
        },
        {
          "output_type": "stream",
          "name": "stdout",
          "text": [
            "\n",
            "[*********************100%%**********************]  1 of 1 completed"
          ]
        },
        {
          "output_type": "stream",
          "name": "stderr",
          "text": [
            "\r 84%|████████▍ | 84/100 [00:26<00:04,  3.54it/s]"
          ]
        },
        {
          "output_type": "stream",
          "name": "stdout",
          "text": [
            "\n",
            "[*********************100%%**********************]  1 of 1 completed"
          ]
        },
        {
          "output_type": "stream",
          "name": "stderr",
          "text": [
            "\r 85%|████████▌ | 85/100 [00:27<00:05,  2.94it/s]"
          ]
        },
        {
          "output_type": "stream",
          "name": "stdout",
          "text": [
            "\n",
            "[*********************100%%**********************]  1 of 1 completed"
          ]
        },
        {
          "output_type": "stream",
          "name": "stderr",
          "text": [
            "\r 86%|████████▌ | 86/100 [00:27<00:04,  3.27it/s]"
          ]
        },
        {
          "output_type": "stream",
          "name": "stdout",
          "text": [
            "\n",
            "[*********************100%%**********************]  1 of 1 completed"
          ]
        },
        {
          "output_type": "stream",
          "name": "stderr",
          "text": [
            "ERROR:yfinance:\n",
            "1 Failed download:\n",
            "ERROR:yfinance:['ARRY']: Exception(\"%ticker%: Data doesn't exist for startDate = 1531108800, endDate = 1531166400\")\n",
            " 87%|████████▋ | 87/100 [00:27<00:03,  3.44it/s]"
          ]
        },
        {
          "output_type": "stream",
          "name": "stdout",
          "text": [
            "\n",
            "[*********************100%%**********************]  1 of 1 completed"
          ]
        },
        {
          "output_type": "stream",
          "name": "stderr",
          "text": [
            "\r 88%|████████▊ | 88/100 [00:28<00:04,  2.63it/s]"
          ]
        },
        {
          "output_type": "stream",
          "name": "stdout",
          "text": [
            "\n",
            "[*********************100%%**********************]  1 of 1 completed"
          ]
        },
        {
          "output_type": "stream",
          "name": "stderr",
          "text": [
            "ERROR:yfinance:\n",
            "1 Failed download:\n",
            "ERROR:yfinance:['ARRY']: Exception(\"%ticker%: Data doesn't exist for startDate = 1531108800, endDate = 1531166400\")\n",
            " 89%|████████▉ | 89/100 [00:28<00:03,  2.97it/s]"
          ]
        },
        {
          "output_type": "stream",
          "name": "stdout",
          "text": [
            "\n",
            "[*********************100%%**********************]  1 of 1 completed"
          ]
        },
        {
          "output_type": "stream",
          "name": "stderr",
          "text": [
            "\r 90%|█████████ | 90/100 [00:28<00:03,  3.21it/s]"
          ]
        },
        {
          "output_type": "stream",
          "name": "stdout",
          "text": [
            "\n",
            "[*********************100%%**********************]  1 of 1 completed"
          ]
        },
        {
          "output_type": "stream",
          "name": "stderr",
          "text": [
            "ERROR:yfinance:\n",
            "1 Failed download:\n",
            "ERROR:yfinance:['JEC']: Exception('%ticker%: No timezone found, symbol may be delisted')\n",
            " 91%|█████████ | 91/100 [00:29<00:02,  3.35it/s]"
          ]
        },
        {
          "output_type": "stream",
          "name": "stdout",
          "text": [
            "\n",
            "[*********************100%%**********************]  1 of 1 completed"
          ]
        },
        {
          "output_type": "stream",
          "name": "stderr",
          "text": [
            "\r 92%|█████████▏| 92/100 [00:29<00:02,  3.29it/s]"
          ]
        },
        {
          "output_type": "stream",
          "name": "stdout",
          "text": [
            "\n",
            "[*********************100%%**********************]  1 of 1 completed"
          ]
        },
        {
          "output_type": "stream",
          "name": "stderr",
          "text": [
            "\r 93%|█████████▎| 93/100 [00:30<00:02,  2.77it/s]"
          ]
        },
        {
          "output_type": "stream",
          "name": "stdout",
          "text": [
            "\n",
            "[*********************100%%**********************]  1 of 1 completed"
          ]
        },
        {
          "output_type": "stream",
          "name": "stderr",
          "text": [
            "\r 94%|█████████▍| 94/100 [00:30<00:02,  2.43it/s]"
          ]
        },
        {
          "output_type": "stream",
          "name": "stdout",
          "text": [
            "\n",
            "[*********************100%%**********************]  1 of 1 completed"
          ]
        },
        {
          "output_type": "stream",
          "name": "stderr",
          "text": [
            "ERROR:yfinance:\n",
            "1 Failed download:\n",
            "ERROR:yfinance:['FNSR']: Exception('%ticker%: No timezone found, symbol may be delisted')\n",
            " 95%|█████████▌| 95/100 [00:30<00:01,  2.78it/s]"
          ]
        },
        {
          "output_type": "stream",
          "name": "stdout",
          "text": [
            "\n",
            "[*********************100%%**********************]  1 of 1 completed"
          ]
        },
        {
          "output_type": "stream",
          "name": "stderr",
          "text": [
            "\r 96%|█████████▌| 96/100 [00:31<00:01,  2.40it/s]"
          ]
        },
        {
          "output_type": "stream",
          "name": "stdout",
          "text": [
            "\n",
            "[*********************100%%**********************]  1 of 1 completed"
          ]
        },
        {
          "output_type": "stream",
          "name": "stderr",
          "text": [
            "\r 97%|█████████▋| 97/100 [00:31<00:01,  2.72it/s]"
          ]
        },
        {
          "output_type": "stream",
          "name": "stdout",
          "text": [
            "\n",
            "[*********************100%%**********************]  1 of 1 completed"
          ]
        },
        {
          "output_type": "stream",
          "name": "stderr",
          "text": [
            "ERROR:yfinance:\n",
            "1 Failed download:\n",
            "ERROR:yfinance:['JEC']: Exception('%ticker%: No timezone found, symbol may be delisted')\n",
            " 98%|█████████▊| 98/100 [00:31<00:00,  3.05it/s]"
          ]
        },
        {
          "output_type": "stream",
          "name": "stdout",
          "text": [
            "\n",
            "\r[*********************100%%**********************]  1 of 1 completed"
          ]
        },
        {
          "output_type": "stream",
          "name": "stderr",
          "text": [
            "\r 99%|█████████▉| 99/100 [00:32<00:00,  3.48it/s]"
          ]
        },
        {
          "output_type": "stream",
          "name": "stdout",
          "text": [
            "\n",
            "[*********************100%%**********************]  1 of 1 completed"
          ]
        },
        {
          "output_type": "stream",
          "name": "stderr",
          "text": [
            "ERROR:yfinance:\n",
            "1 Failed download:\n",
            "ERROR:yfinance:['JEC']: Exception('%ticker%: No timezone found, symbol may be delisted')\n",
            "100%|██████████| 100/100 [00:32<00:00,  3.86it/s]"
          ]
        },
        {
          "output_type": "stream",
          "name": "stdout",
          "text": [
            "\n",
            "[*********************100%%**********************]  1 of 1 completed\n"
          ]
        },
        {
          "output_type": "stream",
          "name": "stderr",
          "text": [
            "\r100%|██████████| 100/100 [00:32<00:00,  3.08it/s]\n"
          ]
        }
      ],
      "source": [
        "# Define a function to calculate open and close prices and apply it row-wise\n",
        "def calculate_open_close_prices(row):\n",
        "    open, close = get_open_close_prices(row['symbols'], row['timestamp'])\n",
        "    return pd.Series({'open_price': open, 'close_price': close})\n",
        "\n",
        "stockerbot[['open_price', 'close_price']] = stockerbot.progress_apply(calculate_open_close_prices, axis=1)\n",
        "stockerbot = stockerbot.dropna(subset=['open_price', 'close_price'])\n",
        "# Reset the index of the DataFrame\n",
        "stockerbot.reset_index(drop=True, inplace=True)"
      ]
    },
    {
      "cell_type": "code",
      "source": [
        "stockerbot[\"outcome\"] = stockerbot[\"close_price\"] - stockerbot[\"open_price\"]\n",
        "\n",
        "# Convert msg_type_logits to numpy array\n",
        "msg_type_logits = np.array(stockerbot['msg_type_logits'].tolist())\n",
        "\n",
        "# Determine if the source is smart only based on positive and neagtive\n",
        "stockerbot['is_smart'] = np.where(msg_type_logits[:, 0] > msg_type_logits[:, 1], stockerbot['outcome'] > 0, stockerbot['outcome'] < 0)\n",
        "stockerbot.head(3)"
      ],
      "metadata": {
        "colab": {
          "base_uri": "https://localhost:8080/",
          "height": 656
        },
        "id": "0zi7WQD9Nggo",
        "outputId": "db8d90a6-35ba-40e0-acf1-d0c7e3104de9"
      },
      "execution_count": 14,
      "outputs": [
        {
          "output_type": "stream",
          "name": "stderr",
          "text": [
            "<ipython-input-14-baf1c8ff34be>:1: SettingWithCopyWarning: \n",
            "A value is trying to be set on a copy of a slice from a DataFrame.\n",
            "Try using .loc[row_indexer,col_indexer] = value instead\n",
            "\n",
            "See the caveats in the documentation: https://pandas.pydata.org/pandas-docs/stable/user_guide/indexing.html#returning-a-view-versus-a-copy\n",
            "  stockerbot[\"outcome\"] = stockerbot[\"close_price\"] - stockerbot[\"open_price\"]\n",
            "<ipython-input-14-baf1c8ff34be>:7: SettingWithCopyWarning: \n",
            "A value is trying to be set on a copy of a slice from a DataFrame.\n",
            "Try using .loc[row_indexer,col_indexer] = value instead\n",
            "\n",
            "See the caveats in the documentation: https://pandas.pydata.org/pandas-docs/stable/user_guide/indexing.html#returning-a-view-versus-a-copy\n",
            "  stockerbot['is_smart'] = np.where(msg_type_logits[:, 0] > msg_type_logits[:, 1], stockerbot['outcome'] > 0, stockerbot['outcome'] < 0)\n"
          ]
        },
        {
          "output_type": "execute_result",
          "data": {
            "text/plain": [
              "                                                text  \\\n",
              "0  VIDEO: “I was in my office. I was minding my o...   \n",
              "1  The price of lumber $LB_F is down 22% since hi...   \n",
              "2              Who says the American Dream is dead?    \n",
              "\n",
              "                        timestamp        source symbols      company_names  \\\n",
              "0  Wed Jul 18 21:33:26 +0000 2018  GoldmanSachs      GS  The Goldman Sachs   \n",
              "1  Wed Jul 18 22:22:47 +0000 2018    StockTwits       M             Macy's   \n",
              "2  Wed Jul 18 22:32:01 +0000 2018     TheStreet     AIG           American   \n",
              "\n",
              "            timestamp_alter        date      time  \\\n",
              "0 2018-07-18 21:33:26+00:00  2018-07-18  21:33:26   \n",
              "1 2018-07-18 22:22:47+00:00  2018-07-18  22:22:47   \n",
              "2 2018-07-18 22:32:01+00:00  2018-07-18  22:32:01   \n",
              "\n",
              "                          msg_type_logits  open_price  close_price   outcome  \\\n",
              "0    [0.03599325, 0.043493137, 0.9205136]  231.110001   229.630005 -1.479996   \n",
              "1  [0.007873767, 0.97261983, 0.019506391]   37.790001    38.959999  1.169998   \n",
              "2    [0.029226696, 0.2888471, 0.68192625]   54.900002    53.849998 -1.050003   \n",
              "\n",
              "   is_smart  \n",
              "0      True  \n",
              "1     False  \n",
              "2      True  "
            ],
            "text/html": [
              "\n",
              "  <div id=\"df-b0cc3fdf-d77c-4285-97e7-33e013f54a3b\" class=\"colab-df-container\">\n",
              "    <div>\n",
              "<style scoped>\n",
              "    .dataframe tbody tr th:only-of-type {\n",
              "        vertical-align: middle;\n",
              "    }\n",
              "\n",
              "    .dataframe tbody tr th {\n",
              "        vertical-align: top;\n",
              "    }\n",
              "\n",
              "    .dataframe thead th {\n",
              "        text-align: right;\n",
              "    }\n",
              "</style>\n",
              "<table border=\"1\" class=\"dataframe\">\n",
              "  <thead>\n",
              "    <tr style=\"text-align: right;\">\n",
              "      <th></th>\n",
              "      <th>text</th>\n",
              "      <th>timestamp</th>\n",
              "      <th>source</th>\n",
              "      <th>symbols</th>\n",
              "      <th>company_names</th>\n",
              "      <th>timestamp_alter</th>\n",
              "      <th>date</th>\n",
              "      <th>time</th>\n",
              "      <th>msg_type_logits</th>\n",
              "      <th>open_price</th>\n",
              "      <th>close_price</th>\n",
              "      <th>outcome</th>\n",
              "      <th>is_smart</th>\n",
              "    </tr>\n",
              "  </thead>\n",
              "  <tbody>\n",
              "    <tr>\n",
              "      <th>0</th>\n",
              "      <td>VIDEO: “I was in my office. I was minding my o...</td>\n",
              "      <td>Wed Jul 18 21:33:26 +0000 2018</td>\n",
              "      <td>GoldmanSachs</td>\n",
              "      <td>GS</td>\n",
              "      <td>The Goldman Sachs</td>\n",
              "      <td>2018-07-18 21:33:26+00:00</td>\n",
              "      <td>2018-07-18</td>\n",
              "      <td>21:33:26</td>\n",
              "      <td>[0.03599325, 0.043493137, 0.9205136]</td>\n",
              "      <td>231.110001</td>\n",
              "      <td>229.630005</td>\n",
              "      <td>-1.479996</td>\n",
              "      <td>True</td>\n",
              "    </tr>\n",
              "    <tr>\n",
              "      <th>1</th>\n",
              "      <td>The price of lumber $LB_F is down 22% since hi...</td>\n",
              "      <td>Wed Jul 18 22:22:47 +0000 2018</td>\n",
              "      <td>StockTwits</td>\n",
              "      <td>M</td>\n",
              "      <td>Macy's</td>\n",
              "      <td>2018-07-18 22:22:47+00:00</td>\n",
              "      <td>2018-07-18</td>\n",
              "      <td>22:22:47</td>\n",
              "      <td>[0.007873767, 0.97261983, 0.019506391]</td>\n",
              "      <td>37.790001</td>\n",
              "      <td>38.959999</td>\n",
              "      <td>1.169998</td>\n",
              "      <td>False</td>\n",
              "    </tr>\n",
              "    <tr>\n",
              "      <th>2</th>\n",
              "      <td>Who says the American Dream is dead?</td>\n",
              "      <td>Wed Jul 18 22:32:01 +0000 2018</td>\n",
              "      <td>TheStreet</td>\n",
              "      <td>AIG</td>\n",
              "      <td>American</td>\n",
              "      <td>2018-07-18 22:32:01+00:00</td>\n",
              "      <td>2018-07-18</td>\n",
              "      <td>22:32:01</td>\n",
              "      <td>[0.029226696, 0.2888471, 0.68192625]</td>\n",
              "      <td>54.900002</td>\n",
              "      <td>53.849998</td>\n",
              "      <td>-1.050003</td>\n",
              "      <td>True</td>\n",
              "    </tr>\n",
              "  </tbody>\n",
              "</table>\n",
              "</div>\n",
              "    <div class=\"colab-df-buttons\">\n",
              "\n",
              "  <div class=\"colab-df-container\">\n",
              "    <button class=\"colab-df-convert\" onclick=\"convertToInteractive('df-b0cc3fdf-d77c-4285-97e7-33e013f54a3b')\"\n",
              "            title=\"Convert this dataframe to an interactive table.\"\n",
              "            style=\"display:none;\">\n",
              "\n",
              "  <svg xmlns=\"http://www.w3.org/2000/svg\" height=\"24px\" viewBox=\"0 -960 960 960\">\n",
              "    <path d=\"M120-120v-720h720v720H120Zm60-500h600v-160H180v160Zm220 220h160v-160H400v160Zm0 220h160v-160H400v160ZM180-400h160v-160H180v160Zm440 0h160v-160H620v160ZM180-180h160v-160H180v160Zm440 0h160v-160H620v160Z\"/>\n",
              "  </svg>\n",
              "    </button>\n",
              "\n",
              "  <style>\n",
              "    .colab-df-container {\n",
              "      display:flex;\n",
              "      gap: 12px;\n",
              "    }\n",
              "\n",
              "    .colab-df-convert {\n",
              "      background-color: #E8F0FE;\n",
              "      border: none;\n",
              "      border-radius: 50%;\n",
              "      cursor: pointer;\n",
              "      display: none;\n",
              "      fill: #1967D2;\n",
              "      height: 32px;\n",
              "      padding: 0 0 0 0;\n",
              "      width: 32px;\n",
              "    }\n",
              "\n",
              "    .colab-df-convert:hover {\n",
              "      background-color: #E2EBFA;\n",
              "      box-shadow: 0px 1px 2px rgba(60, 64, 67, 0.3), 0px 1px 3px 1px rgba(60, 64, 67, 0.15);\n",
              "      fill: #174EA6;\n",
              "    }\n",
              "\n",
              "    .colab-df-buttons div {\n",
              "      margin-bottom: 4px;\n",
              "    }\n",
              "\n",
              "    [theme=dark] .colab-df-convert {\n",
              "      background-color: #3B4455;\n",
              "      fill: #D2E3FC;\n",
              "    }\n",
              "\n",
              "    [theme=dark] .colab-df-convert:hover {\n",
              "      background-color: #434B5C;\n",
              "      box-shadow: 0px 1px 3px 1px rgba(0, 0, 0, 0.15);\n",
              "      filter: drop-shadow(0px 1px 2px rgba(0, 0, 0, 0.3));\n",
              "      fill: #FFFFFF;\n",
              "    }\n",
              "  </style>\n",
              "\n",
              "    <script>\n",
              "      const buttonEl =\n",
              "        document.querySelector('#df-b0cc3fdf-d77c-4285-97e7-33e013f54a3b button.colab-df-convert');\n",
              "      buttonEl.style.display =\n",
              "        google.colab.kernel.accessAllowed ? 'block' : 'none';\n",
              "\n",
              "      async function convertToInteractive(key) {\n",
              "        const element = document.querySelector('#df-b0cc3fdf-d77c-4285-97e7-33e013f54a3b');\n",
              "        const dataTable =\n",
              "          await google.colab.kernel.invokeFunction('convertToInteractive',\n",
              "                                                    [key], {});\n",
              "        if (!dataTable) return;\n",
              "\n",
              "        const docLinkHtml = 'Like what you see? Visit the ' +\n",
              "          '<a target=\"_blank\" href=https://colab.research.google.com/notebooks/data_table.ipynb>data table notebook</a>'\n",
              "          + ' to learn more about interactive tables.';\n",
              "        element.innerHTML = '';\n",
              "        dataTable['output_type'] = 'display_data';\n",
              "        await google.colab.output.renderOutput(dataTable, element);\n",
              "        const docLink = document.createElement('div');\n",
              "        docLink.innerHTML = docLinkHtml;\n",
              "        element.appendChild(docLink);\n",
              "      }\n",
              "    </script>\n",
              "  </div>\n",
              "\n",
              "\n",
              "<div id=\"df-e6fe0397-604e-42ed-8125-a56cd2a3d152\">\n",
              "  <button class=\"colab-df-quickchart\" onclick=\"quickchart('df-e6fe0397-604e-42ed-8125-a56cd2a3d152')\"\n",
              "            title=\"Suggest charts\"\n",
              "            style=\"display:none;\">\n",
              "\n",
              "<svg xmlns=\"http://www.w3.org/2000/svg\" height=\"24px\"viewBox=\"0 0 24 24\"\n",
              "     width=\"24px\">\n",
              "    <g>\n",
              "        <path d=\"M19 3H5c-1.1 0-2 .9-2 2v14c0 1.1.9 2 2 2h14c1.1 0 2-.9 2-2V5c0-1.1-.9-2-2-2zM9 17H7v-7h2v7zm4 0h-2V7h2v10zm4 0h-2v-4h2v4z\"/>\n",
              "    </g>\n",
              "</svg>\n",
              "  </button>\n",
              "\n",
              "<style>\n",
              "  .colab-df-quickchart {\n",
              "      --bg-color: #E8F0FE;\n",
              "      --fill-color: #1967D2;\n",
              "      --hover-bg-color: #E2EBFA;\n",
              "      --hover-fill-color: #174EA6;\n",
              "      --disabled-fill-color: #AAA;\n",
              "      --disabled-bg-color: #DDD;\n",
              "  }\n",
              "\n",
              "  [theme=dark] .colab-df-quickchart {\n",
              "      --bg-color: #3B4455;\n",
              "      --fill-color: #D2E3FC;\n",
              "      --hover-bg-color: #434B5C;\n",
              "      --hover-fill-color: #FFFFFF;\n",
              "      --disabled-bg-color: #3B4455;\n",
              "      --disabled-fill-color: #666;\n",
              "  }\n",
              "\n",
              "  .colab-df-quickchart {\n",
              "    background-color: var(--bg-color);\n",
              "    border: none;\n",
              "    border-radius: 50%;\n",
              "    cursor: pointer;\n",
              "    display: none;\n",
              "    fill: var(--fill-color);\n",
              "    height: 32px;\n",
              "    padding: 0;\n",
              "    width: 32px;\n",
              "  }\n",
              "\n",
              "  .colab-df-quickchart:hover {\n",
              "    background-color: var(--hover-bg-color);\n",
              "    box-shadow: 0 1px 2px rgba(60, 64, 67, 0.3), 0 1px 3px 1px rgba(60, 64, 67, 0.15);\n",
              "    fill: var(--button-hover-fill-color);\n",
              "  }\n",
              "\n",
              "  .colab-df-quickchart-complete:disabled,\n",
              "  .colab-df-quickchart-complete:disabled:hover {\n",
              "    background-color: var(--disabled-bg-color);\n",
              "    fill: var(--disabled-fill-color);\n",
              "    box-shadow: none;\n",
              "  }\n",
              "\n",
              "  .colab-df-spinner {\n",
              "    border: 2px solid var(--fill-color);\n",
              "    border-color: transparent;\n",
              "    border-bottom-color: var(--fill-color);\n",
              "    animation:\n",
              "      spin 1s steps(1) infinite;\n",
              "  }\n",
              "\n",
              "  @keyframes spin {\n",
              "    0% {\n",
              "      border-color: transparent;\n",
              "      border-bottom-color: var(--fill-color);\n",
              "      border-left-color: var(--fill-color);\n",
              "    }\n",
              "    20% {\n",
              "      border-color: transparent;\n",
              "      border-left-color: var(--fill-color);\n",
              "      border-top-color: var(--fill-color);\n",
              "    }\n",
              "    30% {\n",
              "      border-color: transparent;\n",
              "      border-left-color: var(--fill-color);\n",
              "      border-top-color: var(--fill-color);\n",
              "      border-right-color: var(--fill-color);\n",
              "    }\n",
              "    40% {\n",
              "      border-color: transparent;\n",
              "      border-right-color: var(--fill-color);\n",
              "      border-top-color: var(--fill-color);\n",
              "    }\n",
              "    60% {\n",
              "      border-color: transparent;\n",
              "      border-right-color: var(--fill-color);\n",
              "    }\n",
              "    80% {\n",
              "      border-color: transparent;\n",
              "      border-right-color: var(--fill-color);\n",
              "      border-bottom-color: var(--fill-color);\n",
              "    }\n",
              "    90% {\n",
              "      border-color: transparent;\n",
              "      border-bottom-color: var(--fill-color);\n",
              "    }\n",
              "  }\n",
              "</style>\n",
              "\n",
              "  <script>\n",
              "    async function quickchart(key) {\n",
              "      const quickchartButtonEl =\n",
              "        document.querySelector('#' + key + ' button');\n",
              "      quickchartButtonEl.disabled = true;  // To prevent multiple clicks.\n",
              "      quickchartButtonEl.classList.add('colab-df-spinner');\n",
              "      try {\n",
              "        const charts = await google.colab.kernel.invokeFunction(\n",
              "            'suggestCharts', [key], {});\n",
              "      } catch (error) {\n",
              "        console.error('Error during call to suggestCharts:', error);\n",
              "      }\n",
              "      quickchartButtonEl.classList.remove('colab-df-spinner');\n",
              "      quickchartButtonEl.classList.add('colab-df-quickchart-complete');\n",
              "    }\n",
              "    (() => {\n",
              "      let quickchartButtonEl =\n",
              "        document.querySelector('#df-e6fe0397-604e-42ed-8125-a56cd2a3d152 button');\n",
              "      quickchartButtonEl.style.display =\n",
              "        google.colab.kernel.accessAllowed ? 'block' : 'none';\n",
              "    })();\n",
              "  </script>\n",
              "</div>\n",
              "    </div>\n",
              "  </div>\n"
            ]
          },
          "metadata": {},
          "execution_count": 14
        }
      ]
    },
    {
      "cell_type": "code",
      "source": [
        "total_true, total_false = stockerbot['is_smart'].value_counts()\n",
        "# This is based on the is_smart dataset\n",
        "threshold = (total_true - total_false) / (total_true + total_false)\n",
        "print(total_true, total_false, threshold)"
      ],
      "metadata": {
        "colab": {
          "base_uri": "https://localhost:8080/"
        },
        "id": "gFp9r7gVQ4Op",
        "outputId": "7a0638ab-5456-4cc8-91e2-55b5683edc98"
      },
      "execution_count": 15,
      "outputs": [
        {
          "output_type": "stream",
          "name": "stdout",
          "text": [
            "44 21 0.35384615384615387\n"
          ]
        }
      ]
    },
    {
      "cell_type": "code",
      "source": [
        "# Get all the unique source and target nodes\n",
        "source_nodes = list(set(stockerbot['source'].unique()))\n",
        "target_nodes = list(set(stockerbot['symbols'].unique()))\n",
        "\n",
        "nodes = list(set(stockerbot['source'].unique()) | set(stockerbot['symbols'].unique()))\n",
        "\n",
        "# Create a dictionary for mapping node to index\n",
        "node_to_index = {node: index for index, node in enumerate(nodes)}\n",
        "\n",
        "# Create node_features\n",
        "node_features = []\n",
        "for node in nodes:\n",
        "    source_feature = 1 if node in source_nodes else 0\n",
        "    target_feature = 1 if node in target_nodes else 0\n",
        "    node_features.append([source_feature, target_feature])\n",
        "node_features = torch.tensor(node_features, dtype=torch.float)\n",
        "node_features"
      ],
      "metadata": {
        "colab": {
          "base_uri": "https://localhost:8080/"
        },
        "id": "rQRD-2QfQqcR",
        "outputId": "60631998-5cab-45ec-893b-bafdb318bbee"
      },
      "execution_count": 16,
      "outputs": [
        {
          "output_type": "execute_result",
          "data": {
            "text/plain": [
              "tensor([[1., 0.],\n",
              "        [0., 1.],\n",
              "        [1., 0.],\n",
              "        [0., 1.],\n",
              "        [0., 1.],\n",
              "        [0., 1.],\n",
              "        [1., 0.],\n",
              "        [0., 1.],\n",
              "        [1., 0.],\n",
              "        [1., 0.],\n",
              "        [1., 0.],\n",
              "        [0., 1.],\n",
              "        [1., 0.],\n",
              "        [0., 1.],\n",
              "        [1., 0.],\n",
              "        [1., 0.],\n",
              "        [1., 0.],\n",
              "        [0., 1.],\n",
              "        [0., 1.],\n",
              "        [0., 1.],\n",
              "        [1., 0.],\n",
              "        [1., 0.],\n",
              "        [0., 1.],\n",
              "        [0., 1.],\n",
              "        [0., 1.],\n",
              "        [1., 0.],\n",
              "        [0., 1.],\n",
              "        [1., 0.],\n",
              "        [1., 0.],\n",
              "        [0., 1.],\n",
              "        [1., 0.],\n",
              "        [0., 1.],\n",
              "        [1., 0.],\n",
              "        [1., 0.],\n",
              "        [1., 0.],\n",
              "        [1., 0.],\n",
              "        [0., 1.],\n",
              "        [0., 1.],\n",
              "        [1., 0.],\n",
              "        [1., 0.],\n",
              "        [1., 0.],\n",
              "        [1., 0.],\n",
              "        [0., 1.],\n",
              "        [1., 0.],\n",
              "        [1., 0.],\n",
              "        [1., 0.],\n",
              "        [1., 0.],\n",
              "        [1., 0.],\n",
              "        [1., 0.],\n",
              "        [1., 0.],\n",
              "        [1., 0.],\n",
              "        [0., 1.],\n",
              "        [1., 0.],\n",
              "        [0., 1.],\n",
              "        [1., 0.],\n",
              "        [0., 1.],\n",
              "        [1., 0.],\n",
              "        [0., 1.],\n",
              "        [0., 1.],\n",
              "        [0., 1.],\n",
              "        [0., 1.],\n",
              "        [0., 1.],\n",
              "        [0., 1.],\n",
              "        [0., 1.],\n",
              "        [1., 0.],\n",
              "        [1., 0.],\n",
              "        [0., 1.],\n",
              "        [0., 1.],\n",
              "        [0., 1.],\n",
              "        [1., 0.],\n",
              "        [1., 0.],\n",
              "        [0., 1.],\n",
              "        [1., 0.],\n",
              "        [1., 0.],\n",
              "        [1., 0.],\n",
              "        [0., 1.],\n",
              "        [0., 1.],\n",
              "        [0., 1.],\n",
              "        [0., 1.],\n",
              "        [0., 1.],\n",
              "        [1., 0.],\n",
              "        [0., 1.],\n",
              "        [1., 0.],\n",
              "        [0., 1.],\n",
              "        [1., 0.]])"
            ]
          },
          "metadata": {},
          "execution_count": 16
        }
      ]
    },
    {
      "cell_type": "code",
      "source": [
        "# Create edge_index\n",
        "edge_index = []\n",
        "for index, row in stockerbot.iterrows():\n",
        "    source_index = node_to_index[row['source']]\n",
        "    target_index = node_to_index[row['symbols']]\n",
        "    edge_index.append([source_index, target_index])\n",
        "edge_index = torch.tensor(edge_index, dtype=torch.long).t().contiguous()\n",
        "edge_index"
      ],
      "metadata": {
        "colab": {
          "base_uri": "https://localhost:8080/"
        },
        "id": "7ZqOsl4aT2DN",
        "outputId": "bc566189-0006-4da0-e7a1-afc5fe460ee1"
      },
      "execution_count": 17,
      "outputs": [
        {
          "output_type": "execute_result",
          "data": {
            "text/plain": [
              "tensor([[40, 46, 73, 21, 34, 84, 28, 84, 28, 35, 84, 14, 28, 84,  0, 47,  9, 70,\n",
              "         80, 74, 20, 64, 41, 10, 10, 10, 49, 49, 16, 30, 48, 54, 65, 49, 56, 33,\n",
              "         12, 49,  6,  6, 49, 38, 52, 80, 20, 64, 45, 25, 15, 12,  8, 69, 12, 82,\n",
              "         49,  2, 39, 12, 72, 20, 44, 27, 50, 32, 43],\n",
              "        [ 7, 59, 42, 83, 13, 23, 23, 61,  5, 29, 60, 67, 81, 24, 66, 11, 11, 22,\n",
              "         37, 17, 37, 37, 17, 62, 57, 57,  1, 36, 57, 31, 71, 71, 76, 75, 51, 63,\n",
              "          3, 55,  4,  4, 68, 17, 11, 18, 18, 18, 31, 26, 26, 63, 79, 26, 66, 76,\n",
              "         78, 17, 77,  4, 71, 53, 19, 58,  3,  3, 26]])"
            ]
          },
          "metadata": {},
          "execution_count": 17
        }
      ]
    },
    {
      "cell_type": "code",
      "source": [
        "# Create edge_features\n",
        "edge_features = []\n",
        "for index, row in stockerbot.iterrows():\n",
        "    msg_type_logits_features = row['msg_type_logits']\n",
        "    multiplyer = 1.0 if row['is_smart'] else -1.0\n",
        "    msg_type_logits_features = np.multiply(msg_type_logits_features, multiplyer)\n",
        "    msg_type_logits_features = np.insert(msg_type_logits_features, 0, multiplyer)\n",
        "    edge_features.append(msg_type_logits_features)\n",
        "edge_features = torch.tensor(edge_features, dtype=torch.float)\n",
        "edge_features"
      ],
      "metadata": {
        "colab": {
          "base_uri": "https://localhost:8080/"
        },
        "id": "-eg438-NT5_e",
        "outputId": "9d463160-5d55-4aec-94a3-6dc9c4356b3a"
      },
      "execution_count": 18,
      "outputs": [
        {
          "output_type": "stream",
          "name": "stderr",
          "text": [
            "<ipython-input-18-476cf1e8afb5>:9: UserWarning: Creating a tensor from a list of numpy.ndarrays is extremely slow. Please consider converting the list to a single numpy.ndarray with numpy.array() before converting to a tensor. (Triggered internally at ../torch/csrc/utils/tensor_new.cpp:261.)\n",
            "  edge_features = torch.tensor(edge_features, dtype=torch.float)\n"
          ]
        },
        {
          "output_type": "execute_result",
          "data": {
            "text/plain": [
              "tensor([[ 1.0000,  0.0360,  0.0435,  0.9205],\n",
              "        [-1.0000, -0.0079, -0.9726, -0.0195],\n",
              "        [ 1.0000,  0.0292,  0.2888,  0.6819],\n",
              "        [ 1.0000,  0.0486,  0.0205,  0.9309],\n",
              "        [ 1.0000,  0.0283,  0.0366,  0.9351],\n",
              "        [-1.0000, -0.1778, -0.0568, -0.7655],\n",
              "        [ 1.0000,  0.0124,  0.9605,  0.0271],\n",
              "        [ 1.0000,  0.0142,  0.9266,  0.0591],\n",
              "        [-1.0000, -0.0239, -0.8813, -0.0948],\n",
              "        [ 1.0000,  0.0561,  0.2363,  0.7076],\n",
              "        [-1.0000, -0.1538, -0.0104, -0.8358],\n",
              "        [-1.0000, -0.8196, -0.0100, -0.1704],\n",
              "        [ 1.0000,  0.0144,  0.9611,  0.0245],\n",
              "        [ 1.0000,  0.0183,  0.2845,  0.6971],\n",
              "        [-1.0000, -0.0391, -0.0190, -0.9419],\n",
              "        [ 1.0000,  0.0578,  0.0164,  0.9258],\n",
              "        [ 1.0000,  0.0578,  0.0164,  0.9258],\n",
              "        [ 1.0000,  0.4515,  0.0197,  0.5288],\n",
              "        [ 1.0000,  0.0284,  0.0223,  0.9494],\n",
              "        [ 1.0000,  0.0466,  0.1247,  0.8287],\n",
              "        [-1.0000, -0.0297, -0.0350, -0.9353],\n",
              "        [ 1.0000,  0.0284,  0.0223,  0.9494],\n",
              "        [ 1.0000,  0.0482,  0.1087,  0.8432],\n",
              "        [-1.0000, -0.0248, -0.0333, -0.9419],\n",
              "        [-1.0000, -0.0257, -0.0366, -0.9377],\n",
              "        [-1.0000, -0.0314, -0.0654, -0.9032],\n",
              "        [-1.0000, -0.0223, -0.0369, -0.9408],\n",
              "        [ 1.0000,  0.0217,  0.0369,  0.9414],\n",
              "        [ 1.0000,  0.2096,  0.0148,  0.7756],\n",
              "        [ 1.0000,  0.0354,  0.0300,  0.9346],\n",
              "        [ 1.0000,  0.4756,  0.0226,  0.5017],\n",
              "        [ 1.0000,  0.1281,  0.0134,  0.8585],\n",
              "        [-1.0000, -0.2274, -0.0279, -0.7447],\n",
              "        [ 1.0000,  0.0198,  0.0500,  0.9301],\n",
              "        [-1.0000, -0.0184, -0.1118, -0.8697],\n",
              "        [-1.0000, -0.0339, -0.6648, -0.3013],\n",
              "        [ 1.0000,  0.0357,  0.0233,  0.9411],\n",
              "        [-1.0000, -0.0201, -0.0494, -0.9305],\n",
              "        [ 1.0000,  0.0333,  0.9414,  0.0254],\n",
              "        [-1.0000, -0.2664, -0.0784, -0.6552],\n",
              "        [ 1.0000,  0.0240,  0.0301,  0.9459],\n",
              "        [ 1.0000,  0.0482,  0.1087,  0.8432],\n",
              "        [ 1.0000,  0.0898,  0.0141,  0.8961],\n",
              "        [ 1.0000,  0.0656,  0.0602,  0.8742],\n",
              "        [ 1.0000,  0.1172,  0.0367,  0.8461],\n",
              "        [ 1.0000,  0.0431,  0.0262,  0.9308],\n",
              "        [ 1.0000,  0.0434,  0.0273,  0.9293],\n",
              "        [ 1.0000,  0.4190,  0.0278,  0.5532],\n",
              "        [ 1.0000,  0.1234,  0.0280,  0.8486],\n",
              "        [ 1.0000,  0.0275,  0.0269,  0.9456],\n",
              "        [-1.0000, -0.0382, -0.0302, -0.9316],\n",
              "        [ 1.0000,  0.1234,  0.0280,  0.8486],\n",
              "        [ 1.0000,  0.0271,  0.0304,  0.9425],\n",
              "        [-1.0000, -0.7371, -0.0783, -0.1846],\n",
              "        [ 1.0000,  0.0203,  0.0540,  0.9257],\n",
              "        [ 1.0000,  0.0482,  0.1087,  0.8432],\n",
              "        [-1.0000, -0.0481, -0.0841, -0.8678],\n",
              "        [-1.0000, -0.0298, -0.0227, -0.9475],\n",
              "        [ 1.0000,  0.0683,  0.0352,  0.8965],\n",
              "        [-1.0000, -0.1209, -0.0348, -0.8444],\n",
              "        [ 1.0000,  0.0486,  0.0330,  0.9184],\n",
              "        [ 1.0000,  0.3937,  0.0264,  0.5799],\n",
              "        [ 1.0000,  0.4595,  0.0333,  0.5072],\n",
              "        [ 1.0000,  0.1032,  0.0414,  0.8554],\n",
              "        [ 1.0000,  0.4027,  0.0339,  0.5634]])"
            ]
          },
          "metadata": {},
          "execution_count": 18
        }
      ]
    },
    {
      "cell_type": "code",
      "source": [
        "# Creating a PyTorch Geometric Data object\n",
        "data = Data(x=node_features, edge_index=edge_index, edge_attr=edge_features)\n",
        "data"
      ],
      "metadata": {
        "colab": {
          "base_uri": "https://localhost:8080/"
        },
        "id": "zP2uMymXT9S2",
        "outputId": "ecf8e1e0-ba0e-4a00-eee9-3d6041ab06f3"
      },
      "execution_count": 19,
      "outputs": [
        {
          "output_type": "execute_result",
          "data": {
            "text/plain": [
              "Data(x=[85, 2], edge_index=[2, 65], edge_attr=[65, 4])"
            ]
          },
          "metadata": {},
          "execution_count": 19
        }
      ]
    },
    {
      "cell_type": "code",
      "source": [
        "if torch.cuda.is_available():\n",
        "    device = torch.device('cuda')\n",
        "else:\n",
        "    device = torch.device('cpu')\n",
        "\n",
        "# Check if TPU is available\n",
        "#if torch_xla._XLAC._xla_get_devices() != []:\n",
        "#    device = xm.xla_device()\n",
        "\n",
        "device"
      ],
      "metadata": {
        "colab": {
          "base_uri": "https://localhost:8080/"
        },
        "id": "ZGo-kQ2XfP6o",
        "outputId": "4158785f-12d5-47e0-c6ff-5d63d934f4b4"
      },
      "execution_count": 20,
      "outputs": [
        {
          "output_type": "execute_result",
          "data": {
            "text/plain": [
              "device(type='cpu')"
            ]
          },
          "metadata": {},
          "execution_count": 20
        }
      ]
    },
    {
      "cell_type": "code",
      "source": [
        "class EdgeFeaturePredictor(nn.Module):\n",
        "    def __init__(self, num_node_features, num_edge_features):\n",
        "        super(EdgeFeaturePredictor, self).__init__()\n",
        "        self.node_encoder = GCNConv(num_node_features, 16)\n",
        "        self.edge_predictor = nn.Linear(32, num_edge_features)\n",
        "\n",
        "    def forward(self, data, edge_index):\n",
        "        x = F.relu(self.node_encoder(data.x, data.edge_index))\n",
        "        edge_features = torch.cat([x[edge_index[0]], x[edge_index[1]]], dim=1)\n",
        "        edge_features = self.edge_predictor(edge_features)\n",
        "\n",
        "        # Apply tanh to the first value and softmax to the last three values\n",
        "        edge_features = torch.cat([torch.tanh(edge_features[:, :1]), F.softmax(edge_features[:, 1:], dim=1)], dim=1)\n",
        "\n",
        "        return edge_features\n",
        "\n",
        "# Instantiate the EdgeFeaturePredictor Model\n",
        "num_node_features = node_features.size(1)\n",
        "num_edge_features = edge_features.size(1)\n",
        "edge_feature_predictor = EdgeFeaturePredictor(num_node_features, num_edge_features).to(device)\n",
        "\n",
        "# Example training loop\n",
        "optimizer = torch.optim.Adam(edge_feature_predictor.parameters(), lr=0.01)\n",
        "\n",
        "for epoch in tqdm(range(1000)):\n",
        "    edge_feature_predictor.train()\n",
        "    optimizer.zero_grad()\n",
        "    predicted_edge_features = edge_feature_predictor(data.to(device), edge_index.to(device))\n",
        "    loss = nn.MSELoss()(predicted_edge_features, edge_features.to(device))\n",
        "    loss.backward()\n",
        "    optimizer.step()\n",
        "\n",
        "# Making predictions\n",
        "edge_feature_predictor.eval()\n",
        "with torch.no_grad():\n",
        "    predicted_edge_features = edge_feature_predictor(data.to(device), edge_index.to(device))\n",
        "\n",
        "print(\"Predicted Edge Features:\", predicted_edge_features)\n",
        "\n",
        "# Node classification based on edge features\n",
        "node_classification = []\n",
        "for node in range(node_features.size(0)):\n",
        "    # Only classify nodes with features [1, 0] or [1, 1]\n",
        "    if node_features[node].tolist() not in [[1.0, 0.0], [1.0, 1.0]]:\n",
        "        continue\n",
        "\n",
        "    # Get the edges for the current node\n",
        "    node_edges = (edge_index[0] == node) | (edge_index[1] == node)\n",
        "\n",
        "    # Calculate the average of the first value of the edge features\n",
        "    avg_edge_feature = predicted_edge_features[node_edges, 0].mean()\n",
        "\n",
        "    # Classify the node\n",
        "    node_classification.append((node, avg_edge_feature >= threshold))\n",
        "\n",
        "node_classification = [(node, torch.tensor(classification).long().to(device)) for node, classification in node_classification]  # Convert to long tensor for use with CrossEntropyLoss\n",
        "node_classes = [\"Non Reliable\", \"Reliable\"]\n",
        "print(\"Node Classes:\")\n",
        "count_reliable = 0\n",
        "count_non_reliable = 0\n",
        "for node, classification in node_classification:\n",
        "    predict = node_classes[classification]\n",
        "    print(node, predict)\n",
        "    if predict == \"Reliable\":\n",
        "        count_reliable += 1\n",
        "    else:\n",
        "       count_non_reliable += 1\n",
        "\n",
        "print(count_reliable, count_non_reliable)"
      ],
      "metadata": {
        "colab": {
          "base_uri": "https://localhost:8080/"
        },
        "id": "4CuG89XtU36B",
        "outputId": "dddbce99-5142-4a21-b50d-97edb112a5a4"
      },
      "execution_count": 21,
      "outputs": [
        {
          "output_type": "stream",
          "name": "stderr",
          "text": [
            "100%|██████████| 1000/1000 [00:05<00:00, 196.09it/s]\n"
          ]
        },
        {
          "output_type": "stream",
          "name": "stdout",
          "text": [
            "Predicted Edge Features: tensor([[ 0.1539,  0.2792,  0.3127,  0.4081],\n",
            "        [ 0.1539,  0.2792,  0.3127,  0.4081],\n",
            "        [ 0.1539,  0.2792,  0.3127,  0.4081],\n",
            "        [ 0.1539,  0.2792,  0.3127,  0.4081],\n",
            "        [ 0.1539,  0.2792,  0.3127,  0.4081],\n",
            "        [-0.0010,  0.2273,  0.3537,  0.4190],\n",
            "        [-0.0010,  0.2273,  0.3537,  0.4190],\n",
            "        [ 0.1539,  0.2792,  0.3127,  0.4081],\n",
            "        [ 0.1539,  0.2792,  0.3127,  0.4081],\n",
            "        [ 0.1539,  0.2792,  0.3127,  0.4081],\n",
            "        [ 0.1539,  0.2792,  0.3127,  0.4081],\n",
            "        [ 0.1539,  0.2792,  0.3127,  0.4081],\n",
            "        [ 0.1539,  0.2792,  0.3127,  0.4081],\n",
            "        [ 0.1539,  0.2792,  0.3127,  0.4081],\n",
            "        [-0.0010,  0.2273,  0.3537,  0.4190],\n",
            "        [ 0.5266,  0.2348,  0.2137,  0.5515],\n",
            "        [ 0.5266,  0.2348,  0.2137,  0.5515],\n",
            "        [ 0.1539,  0.2792,  0.3127,  0.4081],\n",
            "        [ 0.5266,  0.2348,  0.2137,  0.5515],\n",
            "        [ 0.9542,  0.1617,  0.0625,  0.7759],\n",
            "        [ 0.5266,  0.2348,  0.2137,  0.5515],\n",
            "        [ 0.5266,  0.2348,  0.2137,  0.5515],\n",
            "        [ 0.9542,  0.1617,  0.0625,  0.7759],\n",
            "        [ 0.1539,  0.2792,  0.3127,  0.4081],\n",
            "        [ 0.5266,  0.2348,  0.2137,  0.5515],\n",
            "        [ 0.5266,  0.2348,  0.2137,  0.5515],\n",
            "        [ 0.1539,  0.2792,  0.3127,  0.4081],\n",
            "        [ 0.1539,  0.2792,  0.3127,  0.4081],\n",
            "        [ 0.5266,  0.2348,  0.2137,  0.5515],\n",
            "        [-0.0010,  0.2273,  0.3537,  0.4190],\n",
            "        [ 0.5266,  0.2348,  0.2137,  0.5515],\n",
            "        [ 0.5266,  0.2348,  0.2137,  0.5515],\n",
            "        [-0.0010,  0.2273,  0.3537,  0.4190],\n",
            "        [ 0.1539,  0.2792,  0.3127,  0.4081],\n",
            "        [ 0.1539,  0.2792,  0.3127,  0.4081],\n",
            "        [-0.0010,  0.2273,  0.3537,  0.4190],\n",
            "        [ 0.5266,  0.2348,  0.2137,  0.5515],\n",
            "        [ 0.1539,  0.2792,  0.3127,  0.4081],\n",
            "        [ 0.5266,  0.2348,  0.2137,  0.5515],\n",
            "        [ 0.5266,  0.2348,  0.2137,  0.5515],\n",
            "        [ 0.1539,  0.2792,  0.3127,  0.4081],\n",
            "        [ 0.9542,  0.1617,  0.0625,  0.7759],\n",
            "        [ 0.5266,  0.2348,  0.2137,  0.5515],\n",
            "        [ 0.5266,  0.2348,  0.2137,  0.5515],\n",
            "        [ 0.5266,  0.2348,  0.2137,  0.5515],\n",
            "        [ 0.5266,  0.2348,  0.2137,  0.5515],\n",
            "        [-0.0010,  0.2273,  0.3537,  0.4190],\n",
            "        [ 0.9542,  0.1617,  0.0625,  0.7759],\n",
            "        [ 0.9542,  0.1617,  0.0625,  0.7759],\n",
            "        [-0.0010,  0.2273,  0.3537,  0.4190],\n",
            "        [ 0.1539,  0.2792,  0.3127,  0.4081],\n",
            "        [ 0.9542,  0.1617,  0.0625,  0.7759],\n",
            "        [-0.0010,  0.2273,  0.3537,  0.4190],\n",
            "        [-0.0010,  0.2273,  0.3537,  0.4190],\n",
            "        [ 0.1539,  0.2792,  0.3127,  0.4081],\n",
            "        [ 0.9542,  0.1617,  0.0625,  0.7759],\n",
            "        [ 0.1539,  0.2792,  0.3127,  0.4081],\n",
            "        [ 0.5266,  0.2348,  0.2137,  0.5515],\n",
            "        [ 0.5266,  0.2348,  0.2137,  0.5515],\n",
            "        [ 0.1539,  0.2792,  0.3127,  0.4081],\n",
            "        [ 0.1539,  0.2792,  0.3127,  0.4081],\n",
            "        [ 0.1539,  0.2792,  0.3127,  0.4081],\n",
            "        [ 0.5266,  0.2348,  0.2137,  0.5515],\n",
            "        [ 0.5266,  0.2348,  0.2137,  0.5515],\n",
            "        [ 0.9542,  0.1617,  0.0625,  0.7759]])\n",
            "Node Classes:\n",
            "0 Non Reliable\n",
            "2 Reliable\n",
            "6 Reliable\n",
            "8 Non Reliable\n",
            "9 Reliable\n",
            "10 Reliable\n",
            "12 Non Reliable\n",
            "14 Non Reliable\n",
            "15 Reliable\n",
            "16 Reliable\n",
            "20 Reliable\n",
            "21 Non Reliable\n",
            "25 Reliable\n",
            "27 Non Reliable\n",
            "28 Non Reliable\n",
            "30 Non Reliable\n",
            "32 Reliable\n",
            "33 Non Reliable\n",
            "34 Non Reliable\n",
            "35 Non Reliable\n",
            "38 Reliable\n",
            "39 Non Reliable\n",
            "40 Non Reliable\n",
            "41 Reliable\n",
            "43 Reliable\n",
            "44 Non Reliable\n",
            "45 Non Reliable\n",
            "46 Non Reliable\n",
            "47 Reliable\n",
            "48 Reliable\n",
            "49 Non Reliable\n",
            "50 Reliable\n",
            "52 Reliable\n",
            "54 Reliable\n",
            "56 Non Reliable\n",
            "64 Reliable\n",
            "65 Non Reliable\n",
            "69 Reliable\n",
            "70 Non Reliable\n",
            "72 Reliable\n",
            "73 Non Reliable\n",
            "74 Reliable\n",
            "80 Reliable\n",
            "82 Non Reliable\n",
            "84 Non Reliable\n",
            "22 23\n"
          ]
        },
        {
          "output_type": "stream",
          "name": "stderr",
          "text": [
            "<ipython-input-21-76d8211af3ad>:56: UserWarning: To copy construct from a tensor, it is recommended to use sourceTensor.clone().detach() or sourceTensor.clone().detach().requires_grad_(True), rather than torch.tensor(sourceTensor).\n",
            "  node_classification = [(node, torch.tensor(classification).long().to(device)) for node, classification in node_classification]  # Convert to long tensor for use with CrossEntropyLoss\n"
          ]
        }
      ]
    },
    {
      "cell_type": "code",
      "execution_count": 22,
      "metadata": {
        "id": "AhFvtG-p_vxk",
        "colab": {
          "base_uri": "https://localhost:8080/"
        },
        "outputId": "62f35797-bb9a-4487-ea6e-ae76db4e7e0c"
      },
      "outputs": [
        {
          "output_type": "stream",
          "name": "stdout",
          "text": [
            "Predicted Edge Features for New Edges:\n",
            "tensor([[ 0.1539,  0.2792,  0.3127,  0.4081],\n",
            "        [ 0.1539,  0.2792,  0.3127,  0.4081],\n",
            "        [ 0.5266,  0.2348,  0.2137,  0.5515],\n",
            "        ...,\n",
            "        [ 0.1539,  0.2792,  0.3127,  0.4081],\n",
            "        [ 0.1539,  0.2792,  0.3127,  0.4081],\n",
            "        [-0.0010,  0.2273,  0.3537,  0.4190]])\n",
            "1737\n"
          ]
        }
      ],
      "source": [
        "# Convert edge_index to a set for faster lookup\n",
        "existing_edges = set(zip(edge_index[0].tolist(), edge_index[1].tolist()))\n",
        "\n",
        "# Initialize lists to hold the new edges\n",
        "new_source_nodes = []\n",
        "new_target_nodes = []\n",
        "\n",
        "# Iterate over all possible edges\n",
        "for source_name in source_nodes:\n",
        "    for target_name in target_nodes:\n",
        "        source = node_to_index[source_name]\n",
        "        target = node_to_index[target_name]\n",
        "        # Check if the edge is not in the existing edges\n",
        "        if (source, target) not in existing_edges:\n",
        "            new_source_nodes.append(source)\n",
        "            new_target_nodes.append(target)\n",
        "\n",
        "# Convert the lists to a tensor\n",
        "new_edges = torch.tensor([new_source_nodes, new_target_nodes], dtype=torch.long)\n",
        "\n",
        "# Make predictions for the new edges\n",
        "edge_feature_predictor.eval()\n",
        "with torch.no_grad():\n",
        "    new_predicted_edge_features = edge_feature_predictor(data, new_edges)\n",
        "\n",
        "# Print the predicted edge features for the new edges\n",
        "print(\"Predicted Edge Features for New Edges:\")\n",
        "print(new_predicted_edge_features)\n",
        "print(len(new_predicted_edge_features))"
      ]
    },
    {
      "cell_type": "code",
      "source": [
        "# Create a new directed graph\n",
        "dot = Digraph()\n",
        "\n",
        "# Convert node_classification to a dictionary\n",
        "node_classification_dict = dict(node_classification)\n",
        "\n",
        "# Add nodes to the graph\n",
        "node_colors = []\n",
        "for node in range(node_features.size(0)):\n",
        "    if node_features[node].tolist() in [[1, 0], [1, 1]]:\n",
        "        # Check the node_classification_dict\n",
        "        node_colors.append('green' if node_classification_dict.get(node, 0) else 'red')\n",
        "    else:\n",
        "        node_colors.append('grey')\n",
        "    dot.node(str(node), color=node_colors[node], style='filled')\n",
        "\n",
        "# Add old edges to the graph and store edge weights\n",
        "old_edge_weights = defaultdict(list)\n",
        "for i in range(edge_index.size(1)):\n",
        "    node1 = edge_index[0, i].item()\n",
        "    node2 = edge_index[1, i].item()\n",
        "    weight = 1 - max(predicted_edge_features[i, 1:].tolist())\n",
        "    old_edge_weights[(str(node1), str(node2))].append(weight)\n",
        "\n",
        "# Add new edges to the graph and store edge weights\n",
        "new_edge_weights = defaultdict(list)\n",
        "for i in range(new_edges.size(1)):\n",
        "    node1 = new_edges[0, i].item()\n",
        "    node2 = new_edges[1, i].item()\n",
        "    weight = 1 - max(new_predicted_edge_features[i, 1:].tolist())\n",
        "    new_edge_weights[(str(node1), str(node2))].append(weight)\n",
        "\n",
        "# Calculate average weights for overlapping old edges and add them to the graph\n",
        "for edge, weights in old_edge_weights.items():\n",
        "    avg_weight = round(sum(weights) / len(weights), 2)\n",
        "    dot.edge(edge[0], edge[1], label=str(avg_weight), color='black')\n",
        "\n",
        "# Calculate average weights for overlapping new edges and add them to the graph\n",
        "for edge, weights in new_edge_weights.items():\n",
        "    avg_weight = round(sum(weights) / len(weights), 2)\n",
        "    dot.edge(edge[0], edge[1], label=str(avg_weight), color='blue', style='dashed')\n",
        "\n",
        "# Render the graph\n",
        "dot.render('graph.png', view=True)\n"
      ],
      "metadata": {
        "colab": {
          "base_uri": "https://localhost:8080/",
          "height": 35
        },
        "id": "WvC-KKWcl3nQ",
        "outputId": "3fd7ae1a-4859-45b2-d814-093490de207a"
      },
      "execution_count": 24,
      "outputs": [
        {
          "output_type": "execute_result",
          "data": {
            "text/plain": [
              "'graph.png.pdf'"
            ],
            "application/vnd.google.colaboratory.intrinsic+json": {
              "type": "string"
            }
          },
          "metadata": {},
          "execution_count": 24
        }
      ]
    },
    {
      "cell_type": "code",
      "source": [
        "# Create a new directed graph\n",
        "G = nx.DiGraph()\n",
        "\n",
        "# Convert node_classification to a dictionary\n",
        "node_classification_dict = dict(node_classification)\n",
        "\n",
        "# Add nodes to the graph\n",
        "node_colors = []\n",
        "for node in range(node_features.size(0)):\n",
        "    G.add_node(node)\n",
        "    if node_features[node].tolist() in [[1, 0], [1, 1]]:\n",
        "        # Check the node_classification_dict\n",
        "        node_colors.append('green' if node_classification_dict.get(node, 0) else 'red')\n",
        "    else:\n",
        "        node_colors.append('grey')\n",
        "\n",
        "# Add edges to the graph and store edge weights\n",
        "edge_weights = defaultdict(list)\n",
        "for i in range(edge_index.size(1)):\n",
        "    node1 = edge_index[0, i].item()\n",
        "    node2 = edge_index[1, i].item()\n",
        "    weight = 1 - max(predicted_edge_features[i, 1:].tolist())\n",
        "    G.add_edge(node1, node2, color='black')\n",
        "    edge_weights[(node1, node2)].append(weight)\n",
        "\n",
        "# Add new edges to the graph\n",
        "for i in range(new_edges.size(1)):\n",
        "    node1 = new_edges[0, i].item()\n",
        "    node2 = new_edges[1, i].item()\n",
        "    weight = 1 - max(new_predicted_edge_features[i, 1:].tolist())\n",
        "    G.add_edge(node1, node2, color='blue')\n",
        "    edge_weights[(node1, node2)].append(weight)\n",
        "\n",
        "# Calculate average weights for overlapping edges\n",
        "for edge in edge_weights:\n",
        "    edge_weights[edge] = round(sum(edge_weights[edge]) / len(edge_weights[edge]), 2)\n",
        "\n",
        "# Get the positions of the nodes using the spring layout\n",
        "pos = nx.spring_layout(G)\n",
        "\n",
        "# Draw the nodes\n",
        "nx.draw_networkx_nodes(G, pos, node_color=node_colors)\n",
        "\n",
        "# Draw the edges\n",
        "edges = G.edges()\n",
        "edge_colors = [G[u][v]['color'] for u, v in edges]\n",
        "edge_styles = ['dashed' if G[u][v]['color'] == 'blue' else 'solid' for u, v in edges]\n",
        "nx.draw_networkx_edges(G, pos, edgelist=edges, edge_color=edge_colors, style=edge_styles, arrows=True)\n",
        "\n",
        "# Draw the node labels\n",
        "nx.draw_networkx_labels(G, pos)\n",
        "\n",
        "# Draw the edge labels\n",
        "nx.draw_networkx_edge_labels(G, pos, edge_labels=edge_weights)\n",
        "\n",
        "# Show the plot\n",
        "plt.show()\n"
      ],
      "metadata": {
        "colab": {
          "base_uri": "https://localhost:8080/",
          "height": 406
        },
        "id": "cf4DTiwtl6_-",
        "outputId": "b37c1d26-0424-4646-cf55-deadd51c56f6"
      },
      "execution_count": 25,
      "outputs": [
        {
          "output_type": "display_data",
          "data": {
            "text/plain": [
              "<Figure size 640x480 with 1 Axes>"
            ],
            "image/png": "[encoded data removed]"
          },
          "metadata": {}
        }
      ]
    },
    {
      "cell_type": "code",
      "source": [
        "def finbert_accuracy(stockerbot):\n",
        "    correct_predictions = 0\n",
        "    total_predictions = 0\n",
        "\n",
        "    for index, row in stockerbot.iterrows():\n",
        "        sentiment = 'Positive' if row['msg_type_logits'][0] > row['msg_type_logits'][1] else 'Negative'\n",
        "        correct = (sentiment == 'Positive' and row['outcome'] > 0) or (sentiment == 'Negative' and row['outcome'] < 0)\n",
        "        correct_predictions += correct\n",
        "        total_predictions += 1\n",
        "\n",
        "    return correct_predictions / total_predictions\n",
        "\n",
        "finbert_acc = finbert_accuracy(stockerbot)\n",
        "print(\"FinBERT Accuracy: {:.2%}\".format(finbert_acc))\n"
      ],
      "metadata": {
        "colab": {
          "base_uri": "https://localhost:8080/"
        },
        "id": "-GMTahzOkMIS",
        "outputId": "34386274-9574-447f-c990-ad145425fac7"
      },
      "execution_count": 26,
      "outputs": [
        {
          "output_type": "stream",
          "name": "stdout",
          "text": [
            "FinBERT Accuracy: 67.69%\n"
          ]
        }
      ]
    },
    {
      "cell_type": "code",
      "source": [
        "def full_model_accuracy(stockerbot, node_classification):\n",
        "    correct_predictions = 0\n",
        "    total_predictions = 0\n",
        "\n",
        "    for node, classification in node_classification:\n",
        "        for index, row in stockerbot[stockerbot['source'] == nodes[node]].iterrows():\n",
        "            correct = (classification and row['outcome'] > 0) or (not classification and row['outcome'] < 0)\n",
        "            correct_predictions += correct\n",
        "            total_predictions += 1\n",
        "\n",
        "    return correct_predictions / total_predictions if total_predictions > 0 else 0\n",
        "\n",
        "full_model_acc = full_model_accuracy(stockerbot, node_classification)\n",
        "print(\"Full Model Accuracy: {:.2%}\".format(full_model_acc))\n"
      ],
      "metadata": {
        "colab": {
          "base_uri": "https://localhost:8080/"
        },
        "id": "Ocp6bgQekpj7",
        "outputId": "916588ea-abe3-42bd-a772-9bb7b5ced6fb"
      },
      "execution_count": 27,
      "outputs": [
        {
          "output_type": "stream",
          "name": "stdout",
          "text": [
            "Full Model Accuracy: 66.15%\n"
          ]
        }
      ]
    },
    {
      "cell_type": "code",
      "source": [
        "print(\"FinBERT Accuracy: {:.2%}\".format(finbert_acc))\n",
        "print(\"Full Model Accuracy: {:.2%}\".format(full_model_acc))\n"
      ],
      "metadata": {
        "colab": {
          "base_uri": "https://localhost:8080/"
        },
        "id": "7kXQDOEkkVqC",
        "outputId": "6ffcf80a-ba7f-4f7d-fa45-369cb2c8566b"
      },
      "execution_count": 28,
      "outputs": [
        {
          "output_type": "stream",
          "name": "stdout",
          "text": [
            "FinBERT Accuracy: 67.69%\n",
            "Full Model Accuracy: 66.15%\n"
          ]
        }
      ]
    }
  ],
  "metadata": {
    "colab": {
      "provenance": []
    },
    "kernelspec": {
      "display_name": "Python 3",
      "name": "python3"
    },
    "language_info": {
      "name": "python"
    },
    "widgets": {
      "application/vnd.jupyter.widget-state+json": {
        "3ed4724e11f442c38b2577c97a9a4899": {
          "model_module": "@jupyter-widgets/controls",
          "model_name": "HBoxModel",
          "model_module_version": "1.5.0",
          "state": {
            "_dom_classes": [],
            "_model_module": "@jupyter-widgets/controls",
            "_model_module_version": "1.5.0",
            "_model_name": "HBoxModel",
            "_view_count": null,
            "_view_module": "@jupyter-widgets/controls",
            "_view_module_version": "1.5.0",
            "_view_name": "HBoxView",
            "box_style": "",
            "children": [
              "IPY_MODEL_a94ca1f700374864bd27e330b6efef58",
              "IPY_MODEL_b6c29653ca754b998dd992e1a524ceed",
              "IPY_MODEL_1f18cc8880214ba8ac756ca69eb02cf7"
            ],
            "layout": "IPY_MODEL_0813cd41d0f9414fb0dce11d027a3fb9"
          }
        },
        "a94ca1f700374864bd27e330b6efef58": {
          "model_module": "@jupyter-widgets/controls",
          "model_name": "HTMLModel",
          "model_module_version": "1.5.0",
          "state": {
            "_dom_classes": [],
            "_model_module": "@jupyter-widgets/controls",
            "_model_module_version": "1.5.0",
            "_model_name": "HTMLModel",
            "_view_count": null,
            "_view_module": "@jupyter-widgets/controls",
            "_view_module_version": "1.5.0",
            "_view_name": "HTMLView",
            "description": "",
            "description_tooltip": null,
            "layout": "IPY_MODEL_5ad948a9a8a247229d4affe96cb1652d",
            "placeholder": "​",
            "style": "IPY_MODEL_84d0cbad452f44be81304b3354cb58b2",
            "value": "config.json: 100%"
          }
        },
        "b6c29653ca754b998dd992e1a524ceed": {
          "model_module": "@jupyter-widgets/controls",
          "model_name": "FloatProgressModel",
          "model_module_version": "1.5.0",
          "state": {
            "_dom_classes": [],
            "_model_module": "@jupyter-widgets/controls",
            "_model_module_version": "1.5.0",
            "_model_name": "FloatProgressModel",
            "_view_count": null,
            "_view_module": "@jupyter-widgets/controls",
            "_view_module_version": "1.5.0",
            "_view_name": "ProgressView",
            "bar_style": "success",
            "description": "",
            "description_tooltip": null,
            "layout": "IPY_MODEL_94b62f2567ba4b25b0aaeee9c1f713a7",
            "max": 758,
            "min": 0,
            "orientation": "horizontal",
            "style": "IPY_MODEL_08c41e6c882b4e2fa593c21c3e987687",
            "value": 758
          }
        },
        "1f18cc8880214ba8ac756ca69eb02cf7": {
          "model_module": "@jupyter-widgets/controls",
          "model_name": "HTMLModel",
          "model_module_version": "1.5.0",
          "state": {
            "_dom_classes": [],
            "_model_module": "@jupyter-widgets/controls",
            "_model_module_version": "1.5.0",
            "_model_name": "HTMLModel",
            "_view_count": null,
            "_view_module": "@jupyter-widgets/controls",
            "_view_module_version": "1.5.0",
            "_view_name": "HTMLView",
            "description": "",
            "description_tooltip": null,
            "layout": "IPY_MODEL_d80a60035b7646c2bedc5d76ad410512",
            "placeholder": "​",
            "style": "IPY_MODEL_72e718feea4e4593ac9bbd71c18c1573",
            "value": " 758/758 [00:00&lt;00:00, 17.8kB/s]"
          }
        },
        "0813cd41d0f9414fb0dce11d027a3fb9": {
          "model_module": "@jupyter-widgets/base",
          "model_name": "LayoutModel",
          "model_module_version": "1.2.0",
          "state": {
            "_model_module": "@jupyter-widgets/base",
            "_model_module_version": "1.2.0",
            "_model_name": "LayoutModel",
            "_view_count": null,
            "_view_module": "@jupyter-widgets/base",
            "_view_module_version": "1.2.0",
            "_view_name": "LayoutView",
            "align_content": null,
            "align_items": null,
            "align_self": null,
            "border": null,
            "bottom": null,
            "display": null,
            "flex": null,
            "flex_flow": null,
            "grid_area": null,
            "grid_auto_columns": null,
            "grid_auto_flow": null,
            "grid_auto_rows": null,
            "grid_column": null,
            "grid_gap": null,
            "grid_row": null,
            "grid_template_areas": null,
            "grid_template_columns": null,
            "grid_template_rows": null,
            "height": null,
            "justify_content": null,
            "justify_items": null,
            "left": null,
            "margin": null,
            "max_height": null,
            "max_width": null,
            "min_height": null,
            "min_width": null,
            "object_fit": null,
            "object_position": null,
            "order": null,
            "overflow": null,
            "overflow_x": null,
            "overflow_y": null,
            "padding": null,
            "right": null,
            "top": null,
            "visibility": null,
            "width": null
          }
        },
        "5ad948a9a8a247229d4affe96cb1652d": {
          "model_module": "@jupyter-widgets/base",
          "model_name": "LayoutModel",
          "model_module_version": "1.2.0",
          "state": {
            "_model_module": "@jupyter-widgets/base",
            "_model_module_version": "1.2.0",
            "_model_name": "LayoutModel",
            "_view_count": null,
            "_view_module": "@jupyter-widgets/base",
            "_view_module_version": "1.2.0",
            "_view_name": "LayoutView",
            "align_content": null,
            "align_items": null,
            "align_self": null,
            "border": null,
            "bottom": null,
            "display": null,
            "flex": null,
            "flex_flow": null,
            "grid_area": null,
            "grid_auto_columns": null,
            "grid_auto_flow": null,
            "grid_auto_rows": null,
            "grid_column": null,
            "grid_gap": null,
            "grid_row": null,
            "grid_template_areas": null,
            "grid_template_columns": null,
            "grid_template_rows": null,
            "height": null,
            "justify_content": null,
            "justify_items": null,
            "left": null,
            "margin": null,
            "max_height": null,
            "max_width": null,
            "min_height": null,
            "min_width": null,
            "object_fit": null,
            "object_position": null,
            "order": null,
            "overflow": null,
            "overflow_x": null,
            "overflow_y": null,
            "padding": null,
            "right": null,
            "top": null,
            "visibility": null,
            "width": null
          }
        },
        "84d0cbad452f44be81304b3354cb58b2": {
          "model_module": "@jupyter-widgets/controls",
          "model_name": "DescriptionStyleModel",
          "model_module_version": "1.5.0",
          "state": {
            "_model_module": "@jupyter-widgets/controls",
            "_model_module_version": "1.5.0",
            "_model_name": "DescriptionStyleModel",
            "_view_count": null,
            "_view_module": "@jupyter-widgets/base",
            "_view_module_version": "1.2.0",
            "_view_name": "StyleView",
            "description_width": ""
          }
        },
        "94b62f2567ba4b25b0aaeee9c1f713a7": {
          "model_module": "@jupyter-widgets/base",
          "model_name": "LayoutModel",
          "model_module_version": "1.2.0",
          "state": {
            "_model_module": "@jupyter-widgets/base",
            "_model_module_version": "1.2.0",
            "_model_name": "LayoutModel",
            "_view_count": null,
            "_view_module": "@jupyter-widgets/base",
            "_view_module_version": "1.2.0",
            "_view_name": "LayoutView",
            "align_content": null,
            "align_items": null,
            "align_self": null,
            "border": null,
            "bottom": null,
            "display": null,
            "flex": null,
            "flex_flow": null,
            "grid_area": null,
            "grid_auto_columns": null,
            "grid_auto_flow": null,
            "grid_auto_rows": null,
            "grid_column": null,
            "grid_gap": null,
            "grid_row": null,
            "grid_template_areas": null,
            "grid_template_columns": null,
            "grid_template_rows": null,
            "height": null,
            "justify_content": null,
            "justify_items": null,
            "left": null,
            "margin": null,
            "max_height": null,
            "max_width": null,
            "min_height": null,
            "min_width": null,
            "object_fit": null,
            "object_position": null,
            "order": null,
            "overflow": null,
            "overflow_x": null,
            "overflow_y": null,
            "padding": null,
            "right": null,
            "top": null,
            "visibility": null,
            "width": null
          }
        },
        "08c41e6c882b4e2fa593c21c3e987687": {
          "model_module": "@jupyter-widgets/controls",
          "model_name": "ProgressStyleModel",
          "model_module_version": "1.5.0",
          "state": {
            "_model_module": "@jupyter-widgets/controls",
            "_model_module_version": "1.5.0",
            "_model_name": "ProgressStyleModel",
            "_view_count": null,
            "_view_module": "@jupyter-widgets/base",
            "_view_module_version": "1.2.0",
            "_view_name": "StyleView",
            "bar_color": null,
            "description_width": ""
          }
        },
        "d80a60035b7646c2bedc5d76ad410512": {
          "model_module": "@jupyter-widgets/base",
          "model_name": "LayoutModel",
          "model_module_version": "1.2.0",
          "state": {
            "_model_module": "@jupyter-widgets/base",
            "_model_module_version": "1.2.0",
            "_model_name": "LayoutModel",
            "_view_count": null,
            "_view_module": "@jupyter-widgets/base",
            "_view_module_version": "1.2.0",
            "_view_name": "LayoutView",
            "align_content": null,
            "align_items": null,
            "align_self": null,
            "border": null,
            "bottom": null,
            "display": null,
            "flex": null,
            "flex_flow": null,
            "grid_area": null,
            "grid_auto_columns": null,
            "grid_auto_flow": null,
            "grid_auto_rows": null,
            "grid_column": null,
            "grid_gap": null,
            "grid_row": null,
            "grid_template_areas": null,
            "grid_template_columns": null,
            "grid_template_rows": null,
            "height": null,
            "justify_content": null,
            "justify_items": null,
            "left": null,
            "margin": null,
            "max_height": null,
            "max_width": null,
            "min_height": null,
            "min_width": null,
            "object_fit": null,
            "object_position": null,
            "order": null,
            "overflow": null,
            "overflow_x": null,
            "overflow_y": null,
            "padding": null,
            "right": null,
            "top": null,
            "visibility": null,
            "width": null
          }
        },
        "72e718feea4e4593ac9bbd71c18c1573": {
          "model_module": "@jupyter-widgets/controls",
          "model_name": "DescriptionStyleModel",
          "model_module_version": "1.5.0",
          "state": {
            "_model_module": "@jupyter-widgets/controls",
            "_model_module_version": "1.5.0",
            "_model_name": "DescriptionStyleModel",
            "_view_count": null,
            "_view_module": "@jupyter-widgets/base",
            "_view_module_version": "1.2.0",
            "_view_name": "StyleView",
            "description_width": ""
          }
        },
        "21abbf4475a04d5bb91413149f932e2b": {
          "model_module": "@jupyter-widgets/controls",
          "model_name": "HBoxModel",
          "model_module_version": "1.5.0",
          "state": {
            "_dom_classes": [],
            "_model_module": "@jupyter-widgets/controls",
            "_model_module_version": "1.5.0",
            "_model_name": "HBoxModel",
            "_view_count": null,
            "_view_module": "@jupyter-widgets/controls",
            "_view_module_version": "1.5.0",
            "_view_name": "HBoxView",
            "box_style": "",
            "children": [
              "IPY_MODEL_3acb956998b94c14920351bbf276d4ed",
              "IPY_MODEL_763ee8dfbe8b408e956f564e1930b15c",
              "IPY_MODEL_8ab21a9d9f4e4584b02f37630b40fce5"
            ],
            "layout": "IPY_MODEL_7a079da6ea874dc086c2265098e7b34a"
          }
        },
        "3acb956998b94c14920351bbf276d4ed": {
          "model_module": "@jupyter-widgets/controls",
          "model_name": "HTMLModel",
          "model_module_version": "1.5.0",
          "state": {
            "_dom_classes": [],
            "_model_module": "@jupyter-widgets/controls",
            "_model_module_version": "1.5.0",
            "_model_name": "HTMLModel",
            "_view_count": null,
            "_view_module": "@jupyter-widgets/controls",
            "_view_module_version": "1.5.0",
            "_view_name": "HTMLView",
            "description": "",
            "description_tooltip": null,
            "layout": "IPY_MODEL_8895b0c8bb4d4237b328bbfc2f8742a2",
            "placeholder": "​",
            "style": "IPY_MODEL_e393ffd2319c4096a34be29510dfb478",
            "value": "pytorch_model.bin: 100%"
          }
        },
        "763ee8dfbe8b408e956f564e1930b15c": {
          "model_module": "@jupyter-widgets/controls",
          "model_name": "FloatProgressModel",
          "model_module_version": "1.5.0",
          "state": {
            "_dom_classes": [],
            "_model_module": "@jupyter-widgets/controls",
            "_model_module_version": "1.5.0",
            "_model_name": "FloatProgressModel",
            "_view_count": null,
            "_view_module": "@jupyter-widgets/controls",
            "_view_module_version": "1.5.0",
            "_view_name": "ProgressView",
            "bar_style": "success",
            "description": "",
            "description_tooltip": null,
            "layout": "IPY_MODEL_83247ac0df084266adc4dc11773056c6",
            "max": 437992753,
            "min": 0,
            "orientation": "horizontal",
            "style": "IPY_MODEL_81dc83a9d48946c69223bd198ee2f791",
            "value": 437992753
          }
        },
        "8ab21a9d9f4e4584b02f37630b40fce5": {
          "model_module": "@jupyter-widgets/controls",
          "model_name": "HTMLModel",
          "model_module_version": "1.5.0",
          "state": {
            "_dom_classes": [],
            "_model_module": "@jupyter-widgets/controls",
            "_model_module_version": "1.5.0",
            "_model_name": "HTMLModel",
            "_view_count": null,
            "_view_module": "@jupyter-widgets/controls",
            "_view_module_version": "1.5.0",
            "_view_name": "HTMLView",
            "description": "",
            "description_tooltip": null,
            "layout": "IPY_MODEL_6e86e235dc144bcc8100d7268fee920c",
            "placeholder": "​",
            "style": "IPY_MODEL_199d903e027a4e81a9dc2c99d539f4da",
            "value": " 438M/438M [00:04&lt;00:00, 75.2MB/s]"
          }
        },
        "7a079da6ea874dc086c2265098e7b34a": {
          "model_module": "@jupyter-widgets/base",
          "model_name": "LayoutModel",
          "model_module_version": "1.2.0",
          "state": {
            "_model_module": "@jupyter-widgets/base",
            "_model_module_version": "1.2.0",
            "_model_name": "LayoutModel",
            "_view_count": null,
            "_view_module": "@jupyter-widgets/base",
            "_view_module_version": "1.2.0",
            "_view_name": "LayoutView",
            "align_content": null,
            "align_items": null,
            "align_self": null,
            "border": null,
            "bottom": null,
            "display": null,
            "flex": null,
            "flex_flow": null,
            "grid_area": null,
            "grid_auto_columns": null,
            "grid_auto_flow": null,
            "grid_auto_rows": null,
            "grid_column": null,
            "grid_gap": null,
            "grid_row": null,
            "grid_template_areas": null,
            "grid_template_columns": null,
            "grid_template_rows": null,
            "height": null,
            "justify_content": null,
            "justify_items": null,
            "left": null,
            "margin": null,
            "max_height": null,
            "max_width": null,
            "min_height": null,
            "min_width": null,
            "object_fit": null,
            "object_position": null,
            "order": null,
            "overflow": null,
            "overflow_x": null,
            "overflow_y": null,
            "padding": null,
            "right": null,
            "top": null,
            "visibility": null,
            "width": null
          }
        },
        "8895b0c8bb4d4237b328bbfc2f8742a2": {
          "model_module": "@jupyter-widgets/base",
          "model_name": "LayoutModel",
          "model_module_version": "1.2.0",
          "state": {
            "_model_module": "@jupyter-widgets/base",
            "_model_module_version": "1.2.0",
            "_model_name": "LayoutModel",
            "_view_count": null,
            "_view_module": "@jupyter-widgets/base",
            "_view_module_version": "1.2.0",
            "_view_name": "LayoutView",
            "align_content": null,
            "align_items": null,
            "align_self": null,
            "border": null,
            "bottom": null,
            "display": null,
            "flex": null,
            "flex_flow": null,
            "grid_area": null,
            "grid_auto_columns": null,
            "grid_auto_flow": null,
            "grid_auto_rows": null,
            "grid_column": null,
            "grid_gap": null,
            "grid_row": null,
            "grid_template_areas": null,
            "grid_template_columns": null,
            "grid_template_rows": null,
            "height": null,
            "justify_content": null,
            "justify_items": null,
            "left": null,
            "margin": null,
            "max_height": null,
            "max_width": null,
            "min_height": null,
            "min_width": null,
            "object_fit": null,
            "object_position": null,
            "order": null,
            "overflow": null,
            "overflow_x": null,
            "overflow_y": null,
            "padding": null,
            "right": null,
            "top": null,
            "visibility": null,
            "width": null
          }
        },
        "e393ffd2319c4096a34be29510dfb478": {
          "model_module": "@jupyter-widgets/controls",
          "model_name": "DescriptionStyleModel",
          "model_module_version": "1.5.0",
          "state": {
            "_model_module": "@jupyter-widgets/controls",
            "_model_module_version": "1.5.0",
            "_model_name": "DescriptionStyleModel",
            "_view_count": null,
            "_view_module": "@jupyter-widgets/base",
            "_view_module_version": "1.2.0",
            "_view_name": "StyleView",
            "description_width": ""
          }
        },
        "83247ac0df084266adc4dc11773056c6": {
          "model_module": "@jupyter-widgets/base",
          "model_name": "LayoutModel",
          "model_module_version": "1.2.0",
          "state": {
            "_model_module": "@jupyter-widgets/base",
            "_model_module_version": "1.2.0",
            "_model_name": "LayoutModel",
            "_view_count": null,
            "_view_module": "@jupyter-widgets/base",
            "_view_module_version": "1.2.0",
            "_view_name": "LayoutView",
            "align_content": null,
            "align_items": null,
            "align_self": null,
            "border": null,
            "bottom": null,
            "display": null,
            "flex": null,
            "flex_flow": null,
            "grid_area": null,
            "grid_auto_columns": null,
            "grid_auto_flow": null,
            "grid_auto_rows": null,
            "grid_column": null,
            "grid_gap": null,
            "grid_row": null,
            "grid_template_areas": null,
            "grid_template_columns": null,
            "grid_template_rows": null,
            "height": null,
            "justify_content": null,
            "justify_items": null,
            "left": null,
            "margin": null,
            "max_height": null,
            "max_width": null,
            "min_height": null,
            "min_width": null,
            "object_fit": null,
            "object_position": null,
            "order": null,
            "overflow": null,
            "overflow_x": null,
            "overflow_y": null,
            "padding": null,
            "right": null,
            "top": null,
            "visibility": null,
            "width": null
          }
        },
        "81dc83a9d48946c69223bd198ee2f791": {
          "model_module": "@jupyter-widgets/controls",
          "model_name": "ProgressStyleModel",
          "model_module_version": "1.5.0",
          "state": {
            "_model_module": "@jupyter-widgets/controls",
            "_model_module_version": "1.5.0",
            "_model_name": "ProgressStyleModel",
            "_view_count": null,
            "_view_module": "@jupyter-widgets/base",
            "_view_module_version": "1.2.0",
            "_view_name": "StyleView",
            "bar_color": null,
            "description_width": ""
          }
        },
        "6e86e235dc144bcc8100d7268fee920c": {
          "model_module": "@jupyter-widgets/base",
          "model_name": "LayoutModel",
          "model_module_version": "1.2.0",
          "state": {
            "_model_module": "@jupyter-widgets/base",
            "_model_module_version": "1.2.0",
            "_model_name": "LayoutModel",
            "_view_count": null,
            "_view_module": "@jupyter-widgets/base",
            "_view_module_version": "1.2.0",
            "_view_name": "LayoutView",
            "align_content": null,
            "align_items": null,
            "align_self": null,
            "border": null,
            "bottom": null,
            "display": null,
            "flex": null,
            "flex_flow": null,
            "grid_area": null,
            "grid_auto_columns": null,
            "grid_auto_flow": null,
            "grid_auto_rows": null,
            "grid_column": null,
            "grid_gap": null,
            "grid_row": null,
            "grid_template_areas": null,
            "grid_template_columns": null,
            "grid_template_rows": null,
            "height": null,
            "justify_content": null,
            "justify_items": null,
            "left": null,
            "margin": null,
            "max_height": null,
            "max_width": null,
            "min_height": null,
            "min_width": null,
            "object_fit": null,
            "object_position": null,
            "order": null,
            "overflow": null,
            "overflow_x": null,
            "overflow_y": null,
            "padding": null,
            "right": null,
            "top": null,
            "visibility": null,
            "width": null
          }
        },
        "199d903e027a4e81a9dc2c99d539f4da": {
          "model_module": "@jupyter-widgets/controls",
          "model_name": "DescriptionStyleModel",
          "model_module_version": "1.5.0",
          "state": {
            "_model_module": "@jupyter-widgets/controls",
            "_model_module_version": "1.5.0",
            "_model_name": "DescriptionStyleModel",
            "_view_count": null,
            "_view_module": "@jupyter-widgets/base",
            "_view_module_version": "1.2.0",
            "_view_name": "StyleView",
            "description_width": ""
          }
        },
        "197a2dba7f604c19894b6b622f371979": {
          "model_module": "@jupyter-widgets/controls",
          "model_name": "HBoxModel",
          "model_module_version": "1.5.0",
          "state": {
            "_dom_classes": [],
            "_model_module": "@jupyter-widgets/controls",
            "_model_module_version": "1.5.0",
            "_model_name": "HBoxModel",
            "_view_count": null,
            "_view_module": "@jupyter-widgets/controls",
            "_view_module_version": "1.5.0",
            "_view_name": "HBoxView",
            "box_style": "",
            "children": [
              "IPY_MODEL_3bb1058039c8424a8c6e4dcc196c65a1",
              "IPY_MODEL_b80db20da1d74b8b8821f5647a5d2540",
              "IPY_MODEL_30c198b1814b4cc894c134a3cd758a93"
            ],
            "layout": "IPY_MODEL_ff40a2b18dfa4f96bcad11e2ee2af1ff"
          }
        },
        "3bb1058039c8424a8c6e4dcc196c65a1": {
          "model_module": "@jupyter-widgets/controls",
          "model_name": "HTMLModel",
          "model_module_version": "1.5.0",
          "state": {
            "_dom_classes": [],
            "_model_module": "@jupyter-widgets/controls",
            "_model_module_version": "1.5.0",
            "_model_name": "HTMLModel",
            "_view_count": null,
            "_view_module": "@jupyter-widgets/controls",
            "_view_module_version": "1.5.0",
            "_view_name": "HTMLView",
            "description": "",
            "description_tooltip": null,
            "layout": "IPY_MODEL_85aa6d4e68dc42fd933b151d3e97f0e2",
            "placeholder": "​",
            "style": "IPY_MODEL_a09d97900f44495da28dc26e42955e22",
            "value": "tokenizer_config.json: 100%"
          }
        },
        "b80db20da1d74b8b8821f5647a5d2540": {
          "model_module": "@jupyter-widgets/controls",
          "model_name": "FloatProgressModel",
          "model_module_version": "1.5.0",
          "state": {
            "_dom_classes": [],
            "_model_module": "@jupyter-widgets/controls",
            "_model_module_version": "1.5.0",
            "_model_name": "FloatProgressModel",
            "_view_count": null,
            "_view_module": "@jupyter-widgets/controls",
            "_view_module_version": "1.5.0",
            "_view_name": "ProgressView",
            "bar_style": "success",
            "description": "",
            "description_tooltip": null,
            "layout": "IPY_MODEL_6980d232cb8b42e2b013714a2dbda76a",
            "max": 252,
            "min": 0,
            "orientation": "horizontal",
            "style": "IPY_MODEL_9afd532665614a9a92ebc7acb620dbe6",
            "value": 252
          }
        },
        "30c198b1814b4cc894c134a3cd758a93": {
          "model_module": "@jupyter-widgets/controls",
          "model_name": "HTMLModel",
          "model_module_version": "1.5.0",
          "state": {
            "_dom_classes": [],
            "_model_module": "@jupyter-widgets/controls",
            "_model_module_version": "1.5.0",
            "_model_name": "HTMLModel",
            "_view_count": null,
            "_view_module": "@jupyter-widgets/controls",
            "_view_module_version": "1.5.0",
            "_view_name": "HTMLView",
            "description": "",
            "description_tooltip": null,
            "layout": "IPY_MODEL_072cf95e98f34b85bd277593aae40977",
            "placeholder": "​",
            "style": "IPY_MODEL_3728ce292a8544c2b7ef47dd3b660c4f",
            "value": " 252/252 [00:00&lt;00:00, 3.98kB/s]"
          }
        },
        "ff40a2b18dfa4f96bcad11e2ee2af1ff": {
          "model_module": "@jupyter-widgets/base",
          "model_name": "LayoutModel",
          "model_module_version": "1.2.0",
          "state": {
            "_model_module": "@jupyter-widgets/base",
            "_model_module_version": "1.2.0",
            "_model_name": "LayoutModel",
            "_view_count": null,
            "_view_module": "@jupyter-widgets/base",
            "_view_module_version": "1.2.0",
            "_view_name": "LayoutView",
            "align_content": null,
            "align_items": null,
            "align_self": null,
            "border": null,
            "bottom": null,
            "display": null,
            "flex": null,
            "flex_flow": null,
            "grid_area": null,
            "grid_auto_columns": null,
            "grid_auto_flow": null,
            "grid_auto_rows": null,
            "grid_column": null,
            "grid_gap": null,
            "grid_row": null,
            "grid_template_areas": null,
            "grid_template_columns": null,
            "grid_template_rows": null,
            "height": null,
            "justify_content": null,
            "justify_items": null,
            "left": null,
            "margin": null,
            "max_height": null,
            "max_width": null,
            "min_height": null,
            "min_width": null,
            "object_fit": null,
            "object_position": null,
            "order": null,
            "overflow": null,
            "overflow_x": null,
            "overflow_y": null,
            "padding": null,
            "right": null,
            "top": null,
            "visibility": null,
            "width": null
          }
        },
        "85aa6d4e68dc42fd933b151d3e97f0e2": {
          "model_module": "@jupyter-widgets/base",
          "model_name": "LayoutModel",
          "model_module_version": "1.2.0",
          "state": {
            "_model_module": "@jupyter-widgets/base",
            "_model_module_version": "1.2.0",
            "_model_name": "LayoutModel",
            "_view_count": null,
            "_view_module": "@jupyter-widgets/base",
            "_view_module_version": "1.2.0",
            "_view_name": "LayoutView",
            "align_content": null,
            "align_items": null,
            "align_self": null,
            "border": null,
            "bottom": null,
            "display": null,
            "flex": null,
            "flex_flow": null,
            "grid_area": null,
            "grid_auto_columns": null,
            "grid_auto_flow": null,
            "grid_auto_rows": null,
            "grid_column": null,
            "grid_gap": null,
            "grid_row": null,
            "grid_template_areas": null,
            "grid_template_columns": null,
            "grid_template_rows": null,
            "height": null,
            "justify_content": null,
            "justify_items": null,
            "left": null,
            "margin": null,
            "max_height": null,
            "max_width": null,
            "min_height": null,
            "min_width": null,
            "object_fit": null,
            "object_position": null,
            "order": null,
            "overflow": null,
            "overflow_x": null,
            "overflow_y": null,
            "padding": null,
            "right": null,
            "top": null,
            "visibility": null,
            "width": null
          }
        },
        "a09d97900f44495da28dc26e42955e22": {
          "model_module": "@jupyter-widgets/controls",
          "model_name": "DescriptionStyleModel",
          "model_module_version": "1.5.0",
          "state": {
            "_model_module": "@jupyter-widgets/controls",
            "_model_module_version": "1.5.0",
            "_model_name": "DescriptionStyleModel",
            "_view_count": null,
            "_view_module": "@jupyter-widgets/base",
            "_view_module_version": "1.2.0",
            "_view_name": "StyleView",
            "description_width": ""
          }
        },
        "6980d232cb8b42e2b013714a2dbda76a": {
          "model_module": "@jupyter-widgets/base",
          "model_name": "LayoutModel",
          "model_module_version": "1.2.0",
          "state": {
            "_model_module": "@jupyter-widgets/base",
            "_model_module_version": "1.2.0",
            "_model_name": "LayoutModel",
            "_view_count": null,
            "_view_module": "@jupyter-widgets/base",
            "_view_module_version": "1.2.0",
            "_view_name": "LayoutView",
            "align_content": null,
            "align_items": null,
            "align_self": null,
            "border": null,
            "bottom": null,
            "display": null,
            "flex": null,
            "flex_flow": null,
            "grid_area": null,
            "grid_auto_columns": null,
            "grid_auto_flow": null,
            "grid_auto_rows": null,
            "grid_column": null,
            "grid_gap": null,
            "grid_row": null,
            "grid_template_areas": null,
            "grid_template_columns": null,
            "grid_template_rows": null,
            "height": null,
            "justify_content": null,
            "justify_items": null,
            "left": null,
            "margin": null,
            "max_height": null,
            "max_width": null,
            "min_height": null,
            "min_width": null,
            "object_fit": null,
            "object_position": null,
            "order": null,
            "overflow": null,
            "overflow_x": null,
            "overflow_y": null,
            "padding": null,
            "right": null,
            "top": null,
            "visibility": null,
            "width": null
          }
        },
        "9afd532665614a9a92ebc7acb620dbe6": {
          "model_module": "@jupyter-widgets/controls",
          "model_name": "ProgressStyleModel",
          "model_module_version": "1.5.0",
          "state": {
            "_model_module": "@jupyter-widgets/controls",
            "_model_module_version": "1.5.0",
            "_model_name": "ProgressStyleModel",
            "_view_count": null,
            "_view_module": "@jupyter-widgets/base",
            "_view_module_version": "1.2.0",
            "_view_name": "StyleView",
            "bar_color": null,
            "description_width": ""
          }
        },
        "072cf95e98f34b85bd277593aae40977": {
          "model_module": "@jupyter-widgets/base",
          "model_name": "LayoutModel",
          "model_module_version": "1.2.0",
          "state": {
            "_model_module": "@jupyter-widgets/base",
            "_model_module_version": "1.2.0",
            "_model_name": "LayoutModel",
            "_view_count": null,
            "_view_module": "@jupyter-widgets/base",
            "_view_module_version": "1.2.0",
            "_view_name": "LayoutView",
            "align_content": null,
            "align_items": null,
            "align_self": null,
            "border": null,
            "bottom": null,
            "display": null,
            "flex": null,
            "flex_flow": null,
            "grid_area": null,
            "grid_auto_columns": null,
            "grid_auto_flow": null,
            "grid_auto_rows": null,
            "grid_column": null,
            "grid_gap": null,
            "grid_row": null,
            "grid_template_areas": null,
            "grid_template_columns": null,
            "grid_template_rows": null,
            "height": null,
            "justify_content": null,
            "justify_items": null,
            "left": null,
            "margin": null,
            "max_height": null,
            "max_width": null,
            "min_height": null,
            "min_width": null,
            "object_fit": null,
            "object_position": null,
            "order": null,
            "overflow": null,
            "overflow_x": null,
            "overflow_y": null,
            "padding": null,
            "right": null,
            "top": null,
            "visibility": null,
            "width": null
          }
        },
        "3728ce292a8544c2b7ef47dd3b660c4f": {
          "model_module": "@jupyter-widgets/controls",
          "model_name": "DescriptionStyleModel",
          "model_module_version": "1.5.0",
          "state": {
            "_model_module": "@jupyter-widgets/controls",
            "_model_module_version": "1.5.0",
            "_model_name": "DescriptionStyleModel",
            "_view_count": null,
            "_view_module": "@jupyter-widgets/base",
            "_view_module_version": "1.2.0",
            "_view_name": "StyleView",
            "description_width": ""
          }
        },
        "1e6e5eb2f6a641b89da57c86a86f605c": {
          "model_module": "@jupyter-widgets/controls",
          "model_name": "HBoxModel",
          "model_module_version": "1.5.0",
          "state": {
            "_dom_classes": [],
            "_model_module": "@jupyter-widgets/controls",
            "_model_module_version": "1.5.0",
            "_model_name": "HBoxModel",
            "_view_count": null,
            "_view_module": "@jupyter-widgets/controls",
            "_view_module_version": "1.5.0",
            "_view_name": "HBoxView",
            "box_style": "",
            "children": [
              "IPY_MODEL_342a9a3b8c6b4587b47cd42ede5d24b6",
              "IPY_MODEL_8e513195cc6848c9b771aafec2056a9a",
              "IPY_MODEL_1ee9d05e29ce487c972867f1aacdbd8b"
            ],
            "layout": "IPY_MODEL_9a7fade943444d4e8d95be15e4af982f"
          }
        },
        "342a9a3b8c6b4587b47cd42ede5d24b6": {
          "model_module": "@jupyter-widgets/controls",
          "model_name": "HTMLModel",
          "model_module_version": "1.5.0",
          "state": {
            "_dom_classes": [],
            "_model_module": "@jupyter-widgets/controls",
            "_model_module_version": "1.5.0",
            "_model_name": "HTMLModel",
            "_view_count": null,
            "_view_module": "@jupyter-widgets/controls",
            "_view_module_version": "1.5.0",
            "_view_name": "HTMLView",
            "description": "",
            "description_tooltip": null,
            "layout": "IPY_MODEL_557634a9ebab4dff9b913b1e166b0073",
            "placeholder": "​",
            "style": "IPY_MODEL_1491b46365ae42948af4df33629609e9",
            "value": "vocab.txt: 100%"
          }
        },
        "8e513195cc6848c9b771aafec2056a9a": {
          "model_module": "@jupyter-widgets/controls",
          "model_name": "FloatProgressModel",
          "model_module_version": "1.5.0",
          "state": {
            "_dom_classes": [],
            "_model_module": "@jupyter-widgets/controls",
            "_model_module_version": "1.5.0",
            "_model_name": "FloatProgressModel",
            "_view_count": null,
            "_view_module": "@jupyter-widgets/controls",
            "_view_module_version": "1.5.0",
            "_view_name": "ProgressView",
            "bar_style": "success",
            "description": "",
            "description_tooltip": null,
            "layout": "IPY_MODEL_5c6f72fdb68548d3a9122f2f41790f98",
            "max": 231508,
            "min": 0,
            "orientation": "horizontal",
            "style": "IPY_MODEL_f7ce0c4ddb94495fa7f67b83c76a37f2",
            "value": 231508
          }
        },
        "1ee9d05e29ce487c972867f1aacdbd8b": {
          "model_module": "@jupyter-widgets/controls",
          "model_name": "HTMLModel",
          "model_module_version": "1.5.0",
          "state": {
            "_dom_classes": [],
            "_model_module": "@jupyter-widgets/controls",
            "_model_module_version": "1.5.0",
            "_model_name": "HTMLModel",
            "_view_count": null,
            "_view_module": "@jupyter-widgets/controls",
            "_view_module_version": "1.5.0",
            "_view_name": "HTMLView",
            "description": "",
            "description_tooltip": null,
            "layout": "IPY_MODEL_206a7d1c31f54d61bc93463c0b02a70b",
            "placeholder": "​",
            "style": "IPY_MODEL_b5ec9bc1899943d0a9015827ddc3d1cb",
            "value": " 232k/232k [00:00&lt;00:00, 1.83MB/s]"
          }
        },
        "9a7fade943444d4e8d95be15e4af982f": {
          "model_module": "@jupyter-widgets/base",
          "model_name": "LayoutModel",
          "model_module_version": "1.2.0",
          "state": {
            "_model_module": "@jupyter-widgets/base",
            "_model_module_version": "1.2.0",
            "_model_name": "LayoutModel",
            "_view_count": null,
            "_view_module": "@jupyter-widgets/base",
            "_view_module_version": "1.2.0",
            "_view_name": "LayoutView",
            "align_content": null,
            "align_items": null,
            "align_self": null,
            "border": null,
            "bottom": null,
            "display": null,
            "flex": null,
            "flex_flow": null,
            "grid_area": null,
            "grid_auto_columns": null,
            "grid_auto_flow": null,
            "grid_auto_rows": null,
            "grid_column": null,
            "grid_gap": null,
            "grid_row": null,
            "grid_template_areas": null,
            "grid_template_columns": null,
            "grid_template_rows": null,
            "height": null,
            "justify_content": null,
            "justify_items": null,
            "left": null,
            "margin": null,
            "max_height": null,
            "max_width": null,
            "min_height": null,
            "min_width": null,
            "object_fit": null,
            "object_position": null,
            "order": null,
            "overflow": null,
            "overflow_x": null,
            "overflow_y": null,
            "padding": null,
            "right": null,
            "top": null,
            "visibility": null,
            "width": null
          }
        },
        "557634a9ebab4dff9b913b1e166b0073": {
          "model_module": "@jupyter-widgets/base",
          "model_name": "LayoutModel",
          "model_module_version": "1.2.0",
          "state": {
            "_model_module": "@jupyter-widgets/base",
            "_model_module_version": "1.2.0",
            "_model_name": "LayoutModel",
            "_view_count": null,
            "_view_module": "@jupyter-widgets/base",
            "_view_module_version": "1.2.0",
            "_view_name": "LayoutView",
            "align_content": null,
            "align_items": null,
            "align_self": null,
            "border": null,
            "bottom": null,
            "display": null,
            "flex": null,
            "flex_flow": null,
            "grid_area": null,
            "grid_auto_columns": null,
            "grid_auto_flow": null,
            "grid_auto_rows": null,
            "grid_column": null,
            "grid_gap": null,
            "grid_row": null,
            "grid_template_areas": null,
            "grid_template_columns": null,
            "grid_template_rows": null,
            "height": null,
            "justify_content": null,
            "justify_items": null,
            "left": null,
            "margin": null,
            "max_height": null,
            "max_width": null,
            "min_height": null,
            "min_width": null,
            "object_fit": null,
            "object_position": null,
            "order": null,
            "overflow": null,
            "overflow_x": null,
            "overflow_y": null,
            "padding": null,
            "right": null,
            "top": null,
            "visibility": null,
            "width": null
          }
        },
        "1491b46365ae42948af4df33629609e9": {
          "model_module": "@jupyter-widgets/controls",
          "model_name": "DescriptionStyleModel",
          "model_module_version": "1.5.0",
          "state": {
            "_model_module": "@jupyter-widgets/controls",
            "_model_module_version": "1.5.0",
            "_model_name": "DescriptionStyleModel",
            "_view_count": null,
            "_view_module": "@jupyter-widgets/base",
            "_view_module_version": "1.2.0",
            "_view_name": "StyleView",
            "description_width": ""
          }
        },
        "5c6f72fdb68548d3a9122f2f41790f98": {
          "model_module": "@jupyter-widgets/base",
          "model_name": "LayoutModel",
          "model_module_version": "1.2.0",
          "state": {
            "_model_module": "@jupyter-widgets/base",
            "_model_module_version": "1.2.0",
            "_model_name": "LayoutModel",
            "_view_count": null,
            "_view_module": "@jupyter-widgets/base",
            "_view_module_version": "1.2.0",
            "_view_name": "LayoutView",
            "align_content": null,
            "align_items": null,
            "align_self": null,
            "border": null,
            "bottom": null,
            "display": null,
            "flex": null,
            "flex_flow": null,
            "grid_area": null,
            "grid_auto_columns": null,
            "grid_auto_flow": null,
            "grid_auto_rows": null,
            "grid_column": null,
            "grid_gap": null,
            "grid_row": null,
            "grid_template_areas": null,
            "grid_template_columns": null,
            "grid_template_rows": null,
            "height": null,
            "justify_content": null,
            "justify_items": null,
            "left": null,
            "margin": null,
            "max_height": null,
            "max_width": null,
            "min_height": null,
            "min_width": null,
            "object_fit": null,
            "object_position": null,
            "order": null,
            "overflow": null,
            "overflow_x": null,
            "overflow_y": null,
            "padding": null,
            "right": null,
            "top": null,
            "visibility": null,
            "width": null
          }
        },
        "f7ce0c4ddb94495fa7f67b83c76a37f2": {
          "model_module": "@jupyter-widgets/controls",
          "model_name": "ProgressStyleModel",
          "model_module_version": "1.5.0",
          "state": {
            "_model_module": "@jupyter-widgets/controls",
            "_model_module_version": "1.5.0",
            "_model_name": "ProgressStyleModel",
            "_view_count": null,
            "_view_module": "@jupyter-widgets/base",
            "_view_module_version": "1.2.0",
            "_view_name": "StyleView",
            "bar_color": null,
            "description_width": ""
          }
        },
        "206a7d1c31f54d61bc93463c0b02a70b": {
          "model_module": "@jupyter-widgets/base",
          "model_name": "LayoutModel",
          "model_module_version": "1.2.0",
          "state": {
            "_model_module": "@jupyter-widgets/base",
            "_model_module_version": "1.2.0",
            "_model_name": "LayoutModel",
            "_view_count": null,
            "_view_module": "@jupyter-widgets/base",
            "_view_module_version": "1.2.0",
            "_view_name": "LayoutView",
            "align_content": null,
            "align_items": null,
            "align_self": null,
            "border": null,
            "bottom": null,
            "display": null,
            "flex": null,
            "flex_flow": null,
            "grid_area": null,
            "grid_auto_columns": null,
            "grid_auto_flow": null,
            "grid_auto_rows": null,
            "grid_column": null,
            "grid_gap": null,
            "grid_row": null,
            "grid_template_areas": null,
            "grid_template_columns": null,
            "grid_template_rows": null,
            "height": null,
            "justify_content": null,
            "justify_items": null,
            "left": null,
            "margin": null,
            "max_height": null,
            "max_width": null,
            "min_height": null,
            "min_width": null,
            "object_fit": null,
            "object_position": null,
            "order": null,
            "overflow": null,
            "overflow_x": null,
            "overflow_y": null,
            "padding": null,
            "right": null,
            "top": null,
            "visibility": null,
            "width": null
          }
        },
        "b5ec9bc1899943d0a9015827ddc3d1cb": {
          "model_module": "@jupyter-widgets/controls",
          "model_name": "DescriptionStyleModel",
          "model_module_version": "1.5.0",
          "state": {
            "_model_module": "@jupyter-widgets/controls",
            "_model_module_version": "1.5.0",
            "_model_name": "DescriptionStyleModel",
            "_view_count": null,
            "_view_module": "@jupyter-widgets/base",
            "_view_module_version": "1.2.0",
            "_view_name": "StyleView",
            "description_width": ""
          }
        },
        "e223ba1ca58b4ecf8222da88d0d802f8": {
          "model_module": "@jupyter-widgets/controls",
          "model_name": "HBoxModel",
          "model_module_version": "1.5.0",
          "state": {
            "_dom_classes": [],
            "_model_module": "@jupyter-widgets/controls",
            "_model_module_version": "1.5.0",
            "_model_name": "HBoxModel",
            "_view_count": null,
            "_view_module": "@jupyter-widgets/controls",
            "_view_module_version": "1.5.0",
            "_view_name": "HBoxView",
            "box_style": "",
            "children": [
              "IPY_MODEL_55d70a4d290a473b8143d88722847128",
              "IPY_MODEL_27be33eb06e74799b27be36c155de005",
              "IPY_MODEL_41e2ad28e05745ce8a26b67c09cc3d3c"
            ],
            "layout": "IPY_MODEL_c99cccbf67eb4d6f9d6e6300e30f2413"
          }
        },
        "55d70a4d290a473b8143d88722847128": {
          "model_module": "@jupyter-widgets/controls",
          "model_name": "HTMLModel",
          "model_module_version": "1.5.0",
          "state": {
            "_dom_classes": [],
            "_model_module": "@jupyter-widgets/controls",
            "_model_module_version": "1.5.0",
            "_model_name": "HTMLModel",
            "_view_count": null,
            "_view_module": "@jupyter-widgets/controls",
            "_view_module_version": "1.5.0",
            "_view_name": "HTMLView",
            "description": "",
            "description_tooltip": null,
            "layout": "IPY_MODEL_2c6f83ac8efc4837a07a5117ad28e257",
            "placeholder": "​",
            "style": "IPY_MODEL_0c66e37a075e4515b069df56b6f60e01",
            "value": "special_tokens_map.json: 100%"
          }
        },
        "27be33eb06e74799b27be36c155de005": {
          "model_module": "@jupyter-widgets/controls",
          "model_name": "FloatProgressModel",
          "model_module_version": "1.5.0",
          "state": {
            "_dom_classes": [],
            "_model_module": "@jupyter-widgets/controls",
            "_model_module_version": "1.5.0",
            "_model_name": "FloatProgressModel",
            "_view_count": null,
            "_view_module": "@jupyter-widgets/controls",
            "_view_module_version": "1.5.0",
            "_view_name": "ProgressView",
            "bar_style": "success",
            "description": "",
            "description_tooltip": null,
            "layout": "IPY_MODEL_16bbb0e288fb41faa6d1518f7ca939f7",
            "max": 112,
            "min": 0,
            "orientation": "horizontal",
            "style": "IPY_MODEL_b6df371233be4569bafa70222458fe43",
            "value": 112
          }
        },
        "41e2ad28e05745ce8a26b67c09cc3d3c": {
          "model_module": "@jupyter-widgets/controls",
          "model_name": "HTMLModel",
          "model_module_version": "1.5.0",
          "state": {
            "_dom_classes": [],
            "_model_module": "@jupyter-widgets/controls",
            "_model_module_version": "1.5.0",
            "_model_name": "HTMLModel",
            "_view_count": null,
            "_view_module": "@jupyter-widgets/controls",
            "_view_module_version": "1.5.0",
            "_view_name": "HTMLView",
            "description": "",
            "description_tooltip": null,
            "layout": "IPY_MODEL_0242921ba60e4cd48ea8f666d1d925dd",
            "placeholder": "​",
            "style": "IPY_MODEL_983f9a0ea23143aab94e3a2a7f5ff8e5",
            "value": " 112/112 [00:00&lt;00:00, 2.07kB/s]"
          }
        },
        "c99cccbf67eb4d6f9d6e6300e30f2413": {
          "model_module": "@jupyter-widgets/base",
          "model_name": "LayoutModel",
          "model_module_version": "1.2.0",
          "state": {
            "_model_module": "@jupyter-widgets/base",
            "_model_module_version": "1.2.0",
            "_model_name": "LayoutModel",
            "_view_count": null,
            "_view_module": "@jupyter-widgets/base",
            "_view_module_version": "1.2.0",
            "_view_name": "LayoutView",
            "align_content": null,
            "align_items": null,
            "align_self": null,
            "border": null,
            "bottom": null,
            "display": null,
            "flex": null,
            "flex_flow": null,
            "grid_area": null,
            "grid_auto_columns": null,
            "grid_auto_flow": null,
            "grid_auto_rows": null,
            "grid_column": null,
            "grid_gap": null,
            "grid_row": null,
            "grid_template_areas": null,
            "grid_template_columns": null,
            "grid_template_rows": null,
            "height": null,
            "justify_content": null,
            "justify_items": null,
            "left": null,
            "margin": null,
            "max_height": null,
            "max_width": null,
            "min_height": null,
            "min_width": null,
            "object_fit": null,
            "object_position": null,
            "order": null,
            "overflow": null,
            "overflow_x": null,
            "overflow_y": null,
            "padding": null,
            "right": null,
            "top": null,
            "visibility": null,
            "width": null
          }
        },
        "2c6f83ac8efc4837a07a5117ad28e257": {
          "model_module": "@jupyter-widgets/base",
          "model_name": "LayoutModel",
          "model_module_version": "1.2.0",
          "state": {
            "_model_module": "@jupyter-widgets/base",
            "_model_module_version": "1.2.0",
            "_model_name": "LayoutModel",
            "_view_count": null,
            "_view_module": "@jupyter-widgets/base",
            "_view_module_version": "1.2.0",
            "_view_name": "LayoutView",
            "align_content": null,
            "align_items": null,
            "align_self": null,
            "border": null,
            "bottom": null,
            "display": null,
            "flex": null,
            "flex_flow": null,
            "grid_area": null,
            "grid_auto_columns": null,
            "grid_auto_flow": null,
            "grid_auto_rows": null,
            "grid_column": null,
            "grid_gap": null,
            "grid_row": null,
            "grid_template_areas": null,
            "grid_template_columns": null,
            "grid_template_rows": null,
            "height": null,
            "justify_content": null,
            "justify_items": null,
            "left": null,
            "margin": null,
            "max_height": null,
            "max_width": null,
            "min_height": null,
            "min_width": null,
            "object_fit": null,
            "object_position": null,
            "order": null,
            "overflow": null,
            "overflow_x": null,
            "overflow_y": null,
            "padding": null,
            "right": null,
            "top": null,
            "visibility": null,
            "width": null
          }
        },
        "0c66e37a075e4515b069df56b6f60e01": {
          "model_module": "@jupyter-widgets/controls",
          "model_name": "DescriptionStyleModel",
          "model_module_version": "1.5.0",
          "state": {
            "_model_module": "@jupyter-widgets/controls",
            "_model_module_version": "1.5.0",
            "_model_name": "DescriptionStyleModel",
            "_view_count": null,
            "_view_module": "@jupyter-widgets/base",
            "_view_module_version": "1.2.0",
            "_view_name": "StyleView",
            "description_width": ""
          }
        },
        "16bbb0e288fb41faa6d1518f7ca939f7": {
          "model_module": "@jupyter-widgets/base",
          "model_name": "LayoutModel",
          "model_module_version": "1.2.0",
          "state": {
            "_model_module": "@jupyter-widgets/base",
            "_model_module_version": "1.2.0",
            "_model_name": "LayoutModel",
            "_view_count": null,
            "_view_module": "@jupyter-widgets/base",
            "_view_module_version": "1.2.0",
            "_view_name": "LayoutView",
            "align_content": null,
            "align_items": null,
            "align_self": null,
            "border": null,
            "bottom": null,
            "display": null,
            "flex": null,
            "flex_flow": null,
            "grid_area": null,
            "grid_auto_columns": null,
            "grid_auto_flow": null,
            "grid_auto_rows": null,
            "grid_column": null,
            "grid_gap": null,
            "grid_row": null,
            "grid_template_areas": null,
            "grid_template_columns": null,
            "grid_template_rows": null,
            "height": null,
            "justify_content": null,
            "justify_items": null,
            "left": null,
            "margin": null,
            "max_height": null,
            "max_width": null,
            "min_height": null,
            "min_width": null,
            "object_fit": null,
            "object_position": null,
            "order": null,
            "overflow": null,
            "overflow_x": null,
            "overflow_y": null,
            "padding": null,
            "right": null,
            "top": null,
            "visibility": null,
            "width": null
          }
        },
        "b6df371233be4569bafa70222458fe43": {
          "model_module": "@jupyter-widgets/controls",
          "model_name": "ProgressStyleModel",
          "model_module_version": "1.5.0",
          "state": {
            "_model_module": "@jupyter-widgets/controls",
            "_model_module_version": "1.5.0",
            "_model_name": "ProgressStyleModel",
            "_view_count": null,
            "_view_module": "@jupyter-widgets/base",
            "_view_module_version": "1.2.0",
            "_view_name": "StyleView",
            "bar_color": null,
            "description_width": ""
          }
        },
        "0242921ba60e4cd48ea8f666d1d925dd": {
          "model_module": "@jupyter-widgets/base",
          "model_name": "LayoutModel",
          "model_module_version": "1.2.0",
          "state": {
            "_model_module": "@jupyter-widgets/base",
            "_model_module_version": "1.2.0",
            "_model_name": "LayoutModel",
            "_view_count": null,
            "_view_module": "@jupyter-widgets/base",
            "_view_module_version": "1.2.0",
            "_view_name": "LayoutView",
            "align_content": null,
            "align_items": null,
            "align_self": null,
            "border": null,
            "bottom": null,
            "display": null,
            "flex": null,
            "flex_flow": null,
            "grid_area": null,
            "grid_auto_columns": null,
            "grid_auto_flow": null,
            "grid_auto_rows": null,
            "grid_column": null,
            "grid_gap": null,
            "grid_row": null,
            "grid_template_areas": null,
            "grid_template_columns": null,
            "grid_template_rows": null,
            "height": null,
            "justify_content": null,
            "justify_items": null,
            "left": null,
            "margin": null,
            "max_height": null,
            "max_width": null,
            "min_height": null,
            "min_width": null,
            "object_fit": null,
            "object_position": null,
            "order": null,
            "overflow": null,
            "overflow_x": null,
            "overflow_y": null,
            "padding": null,
            "right": null,
            "top": null,
            "visibility": null,
            "width": null
          }
        },
        "983f9a0ea23143aab94e3a2a7f5ff8e5": {
          "model_module": "@jupyter-widgets/controls",
          "model_name": "DescriptionStyleModel",
          "model_module_version": "1.5.0",
          "state": {
            "_model_module": "@jupyter-widgets/controls",
            "_model_module_version": "1.5.0",
            "_model_name": "DescriptionStyleModel",
            "_view_count": null,
            "_view_module": "@jupyter-widgets/base",
            "_view_module_version": "1.2.0",
            "_view_name": "StyleView",
            "description_width": ""
          }
        }
      }
    }
  },
  "nbformat": 4,
  "nbformat_minor": 0
}